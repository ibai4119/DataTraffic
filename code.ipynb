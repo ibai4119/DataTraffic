{
 "cells": [
  {
   "cell_type": "markdown",
   "metadata": {},
   "source": [
    "# Prueba Técnica DT DataScience"
   ]
  },
  {
   "cell_type": "markdown",
   "metadata": {},
   "source": [
    "Comenzamos el proyecto importando las librerías necesarias y echando un primer vistazo a los datos disponibles."
   ]
  },
  {
   "cell_type": "code",
   "execution_count": 61,
   "metadata": {},
   "outputs": [],
   "source": [
    "import pandas as pd\n",
    "import numpy as np\n"
   ]
  },
  {
   "cell_type": "code",
   "execution_count": 62,
   "metadata": {},
   "outputs": [],
   "source": [
    "data_2002 = pd.read_csv('Data/Censo_2002.csv', sep=',')\n",
    "data_2018 = pd.read_csv('Data/Censo_2018.csv', sep=',')"
   ]
  },
  {
   "cell_type": "code",
   "execution_count": 63,
   "metadata": {},
   "outputs": [
    {
     "data": {
      "text/html": [
       "<div>\n",
       "<style scoped>\n",
       "    .dataframe tbody tr th:only-of-type {\n",
       "        vertical-align: middle;\n",
       "    }\n",
       "\n",
       "    .dataframe tbody tr th {\n",
       "        vertical-align: top;\n",
       "    }\n",
       "\n",
       "    .dataframe thead th {\n",
       "        text-align: right;\n",
       "    }\n",
       "</style>\n",
       "<table border=\"1\" class=\"dataframe\">\n",
       "  <thead>\n",
       "    <tr style=\"text-align: right;\">\n",
       "      <th></th>\n",
       "      <th>COD_DANE</th>\n",
       "      <th>Total_Viviendas</th>\n",
       "      <th>Casas</th>\n",
       "      <th>Casas_indigenas</th>\n",
       "      <th>Apartamento</th>\n",
       "      <th>Tipo_Cuarto</th>\n",
       "      <th>Electrica_SI</th>\n",
       "      <th>Electrica_NO</th>\n",
       "      <th>GasNatural_SI</th>\n",
       "      <th>GasNatur_NO</th>\n",
       "      <th>...</th>\n",
       "      <th>Total_Hogares</th>\n",
       "      <th>Total_Personas</th>\n",
       "      <th>HOMBRE</th>\n",
       "      <th>MUJER</th>\n",
       "      <th>Preescolar</th>\n",
       "      <th>Primaria</th>\n",
       "      <th>Secundaria</th>\n",
       "      <th>Especializacion</th>\n",
       "      <th>Ninguna_Educacion</th>\n",
       "      <th>No_responde</th>\n",
       "    </tr>\n",
       "  </thead>\n",
       "  <tbody>\n",
       "    <tr>\n",
       "      <th>0</th>\n",
       "      <td>7300110000000000590101</td>\n",
       "      <td>37</td>\n",
       "      <td>23</td>\n",
       "      <td>NaN</td>\n",
       "      <td>14</td>\n",
       "      <td>0</td>\n",
       "      <td>34</td>\n",
       "      <td>0</td>\n",
       "      <td>30</td>\n",
       "      <td>4</td>\n",
       "      <td>...</td>\n",
       "      <td>35</td>\n",
       "      <td>146</td>\n",
       "      <td>59</td>\n",
       "      <td>87</td>\n",
       "      <td>2</td>\n",
       "      <td>44</td>\n",
       "      <td>21</td>\n",
       "      <td>1</td>\n",
       "      <td>15</td>\n",
       "      <td>63</td>\n",
       "    </tr>\n",
       "    <tr>\n",
       "      <th>1</th>\n",
       "      <td>7300110000000000320703</td>\n",
       "      <td>30</td>\n",
       "      <td>16</td>\n",
       "      <td>NaN</td>\n",
       "      <td>14</td>\n",
       "      <td>0</td>\n",
       "      <td>30</td>\n",
       "      <td>0</td>\n",
       "      <td>28</td>\n",
       "      <td>2</td>\n",
       "      <td>...</td>\n",
       "      <td>34</td>\n",
       "      <td>129</td>\n",
       "      <td>51</td>\n",
       "      <td>78</td>\n",
       "      <td>3</td>\n",
       "      <td>22</td>\n",
       "      <td>29</td>\n",
       "      <td>0</td>\n",
       "      <td>5</td>\n",
       "      <td>70</td>\n",
       "    </tr>\n",
       "    <tr>\n",
       "      <th>2</th>\n",
       "      <td>7300110000000000330935</td>\n",
       "      <td>156</td>\n",
       "      <td>35</td>\n",
       "      <td>NaN</td>\n",
       "      <td>117</td>\n",
       "      <td>3</td>\n",
       "      <td>146</td>\n",
       "      <td>1</td>\n",
       "      <td>89</td>\n",
       "      <td>58</td>\n",
       "      <td>...</td>\n",
       "      <td>149</td>\n",
       "      <td>511</td>\n",
       "      <td>243</td>\n",
       "      <td>268</td>\n",
       "      <td>17</td>\n",
       "      <td>97</td>\n",
       "      <td>88</td>\n",
       "      <td>4</td>\n",
       "      <td>30</td>\n",
       "      <td>275</td>\n",
       "    </tr>\n",
       "    <tr>\n",
       "      <th>3</th>\n",
       "      <td>7300110000000000330221</td>\n",
       "      <td>15</td>\n",
       "      <td>14</td>\n",
       "      <td>NaN</td>\n",
       "      <td>1</td>\n",
       "      <td>0</td>\n",
       "      <td>14</td>\n",
       "      <td>1</td>\n",
       "      <td>7</td>\n",
       "      <td>8</td>\n",
       "      <td>...</td>\n",
       "      <td>15</td>\n",
       "      <td>48</td>\n",
       "      <td>27</td>\n",
       "      <td>21</td>\n",
       "      <td>0</td>\n",
       "      <td>6</td>\n",
       "      <td>9</td>\n",
       "      <td>1</td>\n",
       "      <td>0</td>\n",
       "      <td>32</td>\n",
       "    </tr>\n",
       "    <tr>\n",
       "      <th>4</th>\n",
       "      <td>7300110000000000330103</td>\n",
       "      <td>36</td>\n",
       "      <td>34</td>\n",
       "      <td>NaN</td>\n",
       "      <td>2</td>\n",
       "      <td>0</td>\n",
       "      <td>36</td>\n",
       "      <td>0</td>\n",
       "      <td>32</td>\n",
       "      <td>4</td>\n",
       "      <td>...</td>\n",
       "      <td>36</td>\n",
       "      <td>115</td>\n",
       "      <td>52</td>\n",
       "      <td>63</td>\n",
       "      <td>2</td>\n",
       "      <td>16</td>\n",
       "      <td>13</td>\n",
       "      <td>2</td>\n",
       "      <td>2</td>\n",
       "      <td>80</td>\n",
       "    </tr>\n",
       "  </tbody>\n",
       "</table>\n",
       "<p>5 rows × 24 columns</p>\n",
       "</div>"
      ],
      "text/plain": [
       "                 COD_DANE  Total_Viviendas  Casas  Casas_indigenas  \\\n",
       "0  7300110000000000590101               37     23              NaN   \n",
       "1  7300110000000000320703               30     16              NaN   \n",
       "2  7300110000000000330935              156     35              NaN   \n",
       "3  7300110000000000330221               15     14              NaN   \n",
       "4  7300110000000000330103               36     34              NaN   \n",
       "\n",
       "   Apartamento  Tipo_Cuarto  Electrica_SI  Electrica_NO  GasNatural_SI  \\\n",
       "0           14            0            34             0             30   \n",
       "1           14            0            30             0             28   \n",
       "2          117            3           146             1             89   \n",
       "3            1            0            14             1              7   \n",
       "4            2            0            36             0             32   \n",
       "\n",
       "   GasNatur_NO  ...  Total_Hogares  Total_Personas  HOMBRE  MUJER  Preescolar  \\\n",
       "0            4  ...             35             146      59     87           2   \n",
       "1            2  ...             34             129      51     78           3   \n",
       "2           58  ...            149             511     243    268          17   \n",
       "3            8  ...             15              48      27     21           0   \n",
       "4            4  ...             36             115      52     63           2   \n",
       "\n",
       "   Primaria  Secundaria  Especializacion  Ninguna_Educacion  No_responde  \n",
       "0        44          21                1                 15           63  \n",
       "1        22          29                0                  5           70  \n",
       "2        97          88                4                 30          275  \n",
       "3         6           9                1                  0           32  \n",
       "4        16          13                2                  2           80  \n",
       "\n",
       "[5 rows x 24 columns]"
      ]
     },
     "execution_count": 63,
     "metadata": {},
     "output_type": "execute_result"
    }
   ],
   "source": [
    "data_2002.head()"
   ]
  },
  {
   "cell_type": "code",
   "execution_count": 64,
   "metadata": {},
   "outputs": [
    {
     "data": {
      "text/html": [
       "<div>\n",
       "<style scoped>\n",
       "    .dataframe tbody tr th:only-of-type {\n",
       "        vertical-align: middle;\n",
       "    }\n",
       "\n",
       "    .dataframe tbody tr th {\n",
       "        vertical-align: top;\n",
       "    }\n",
       "\n",
       "    .dataframe thead th {\n",
       "        text-align: right;\n",
       "    }\n",
       "</style>\n",
       "<table border=\"1\" class=\"dataframe\">\n",
       "  <thead>\n",
       "    <tr style=\"text-align: right;\">\n",
       "      <th></th>\n",
       "      <th>COD_DANE_A</th>\n",
       "      <th>VERSION</th>\n",
       "      <th>AREA</th>\n",
       "      <th>Casa_indigena</th>\n",
       "      <th>Total_Viviendas</th>\n",
       "      <th>Casa</th>\n",
       "      <th>Apartamento</th>\n",
       "      <th>Tipo_Cuarto</th>\n",
       "      <th>Electrica_SI</th>\n",
       "      <th>Electrica_NO</th>\n",
       "      <th>...</th>\n",
       "      <th>Total_Personas</th>\n",
       "      <th>HOMBRE</th>\n",
       "      <th>MUJER</th>\n",
       "      <th>Preescolar</th>\n",
       "      <th>Primaria</th>\n",
       "      <th>Secundaria</th>\n",
       "      <th>Especializacion</th>\n",
       "      <th>Ninguno</th>\n",
       "      <th>Ninguno.1</th>\n",
       "      <th>No_responde</th>\n",
       "    </tr>\n",
       "  </thead>\n",
       "  <tbody>\n",
       "    <tr>\n",
       "      <th>0</th>\n",
       "      <td>7300110000000000000000</td>\n",
       "      <td>2018</td>\n",
       "      <td>5379.862696</td>\n",
       "      <td>0</td>\n",
       "      <td>30</td>\n",
       "      <td>12</td>\n",
       "      <td>18</td>\n",
       "      <td>0</td>\n",
       "      <td>46</td>\n",
       "      <td>0</td>\n",
       "      <td>...</td>\n",
       "      <td>87</td>\n",
       "      <td>45</td>\n",
       "      <td>42</td>\n",
       "      <td>18</td>\n",
       "      <td>0</td>\n",
       "      <td>24</td>\n",
       "      <td>0</td>\n",
       "      <td>1</td>\n",
       "      <td>2</td>\n",
       "      <td>60</td>\n",
       "    </tr>\n",
       "    <tr>\n",
       "      <th>1</th>\n",
       "      <td>7300110000000000130204</td>\n",
       "      <td>2018</td>\n",
       "      <td>3244.940412</td>\n",
       "      <td>0</td>\n",
       "      <td>34</td>\n",
       "      <td>32</td>\n",
       "      <td>2</td>\n",
       "      <td>0</td>\n",
       "      <td>56</td>\n",
       "      <td>0</td>\n",
       "      <td>...</td>\n",
       "      <td>84</td>\n",
       "      <td>40</td>\n",
       "      <td>44</td>\n",
       "      <td>0</td>\n",
       "      <td>0</td>\n",
       "      <td>40</td>\n",
       "      <td>0</td>\n",
       "      <td>1</td>\n",
       "      <td>0</td>\n",
       "      <td>43</td>\n",
       "    </tr>\n",
       "    <tr>\n",
       "      <th>2</th>\n",
       "      <td>7300110000000000130206</td>\n",
       "      <td>2018</td>\n",
       "      <td>2081.423166</td>\n",
       "      <td>0</td>\n",
       "      <td>24</td>\n",
       "      <td>15</td>\n",
       "      <td>9</td>\n",
       "      <td>0</td>\n",
       "      <td>30</td>\n",
       "      <td>0</td>\n",
       "      <td>...</td>\n",
       "      <td>38</td>\n",
       "      <td>18</td>\n",
       "      <td>20</td>\n",
       "      <td>0</td>\n",
       "      <td>0</td>\n",
       "      <td>18</td>\n",
       "      <td>0</td>\n",
       "      <td>1</td>\n",
       "      <td>0</td>\n",
       "      <td>19</td>\n",
       "    </tr>\n",
       "    <tr>\n",
       "      <th>3</th>\n",
       "      <td>7300110000000000130207</td>\n",
       "      <td>2018</td>\n",
       "      <td>5619.115851</td>\n",
       "      <td>0</td>\n",
       "      <td>65</td>\n",
       "      <td>59</td>\n",
       "      <td>4</td>\n",
       "      <td>2</td>\n",
       "      <td>112</td>\n",
       "      <td>0</td>\n",
       "      <td>...</td>\n",
       "      <td>177</td>\n",
       "      <td>72</td>\n",
       "      <td>105</td>\n",
       "      <td>14</td>\n",
       "      <td>0</td>\n",
       "      <td>84</td>\n",
       "      <td>0</td>\n",
       "      <td>1</td>\n",
       "      <td>3</td>\n",
       "      <td>89</td>\n",
       "    </tr>\n",
       "    <tr>\n",
       "      <th>4</th>\n",
       "      <td>7300110000000000130208</td>\n",
       "      <td>2018</td>\n",
       "      <td>4902.728507</td>\n",
       "      <td>0</td>\n",
       "      <td>56</td>\n",
       "      <td>44</td>\n",
       "      <td>11</td>\n",
       "      <td>1</td>\n",
       "      <td>94</td>\n",
       "      <td>0</td>\n",
       "      <td>...</td>\n",
       "      <td>153</td>\n",
       "      <td>70</td>\n",
       "      <td>83</td>\n",
       "      <td>30</td>\n",
       "      <td>0</td>\n",
       "      <td>44</td>\n",
       "      <td>0</td>\n",
       "      <td>1</td>\n",
       "      <td>6</td>\n",
       "      <td>102</td>\n",
       "    </tr>\n",
       "  </tbody>\n",
       "</table>\n",
       "<p>5 rows × 26 columns</p>\n",
       "</div>"
      ],
      "text/plain": [
       "               COD_DANE_A  VERSION         AREA  Casa_indigena  \\\n",
       "0  7300110000000000000000     2018  5379.862696              0   \n",
       "1  7300110000000000130204     2018  3244.940412              0   \n",
       "2  7300110000000000130206     2018  2081.423166              0   \n",
       "3  7300110000000000130207     2018  5619.115851              0   \n",
       "4  7300110000000000130208     2018  4902.728507              0   \n",
       "\n",
       "   Total_Viviendas  Casa  Apartamento  Tipo_Cuarto  Electrica_SI  \\\n",
       "0               30    12           18            0            46   \n",
       "1               34    32            2            0            56   \n",
       "2               24    15            9            0            30   \n",
       "3               65    59            4            2           112   \n",
       "4               56    44           11            1            94   \n",
       "\n",
       "   Electrica_NO  ...  Total_Personas  HOMBRE  MUJER  Preescolar  Primaria  \\\n",
       "0             0  ...              87      45     42          18         0   \n",
       "1             0  ...              84      40     44           0         0   \n",
       "2             0  ...              38      18     20           0         0   \n",
       "3             0  ...             177      72    105          14         0   \n",
       "4             0  ...             153      70     83          30         0   \n",
       "\n",
       "   Secundaria  Especializacion  Ninguno  Ninguno.1  No_responde  \n",
       "0          24                0        1          2           60  \n",
       "1          40                0        1          0           43  \n",
       "2          18                0        1          0           19  \n",
       "3          84                0        1          3           89  \n",
       "4          44                0        1          6          102  \n",
       "\n",
       "[5 rows x 26 columns]"
      ]
     },
     "execution_count": 64,
     "metadata": {},
     "output_type": "execute_result"
    }
   ],
   "source": [
    "data_2018.head()"
   ]
  },
  {
   "cell_type": "code",
   "execution_count": 65,
   "metadata": {},
   "outputs": [
    {
     "data": {
      "text/html": [
       "<div>\n",
       "<style scoped>\n",
       "    .dataframe tbody tr th:only-of-type {\n",
       "        vertical-align: middle;\n",
       "    }\n",
       "\n",
       "    .dataframe tbody tr th {\n",
       "        vertical-align: top;\n",
       "    }\n",
       "\n",
       "    .dataframe thead th {\n",
       "        text-align: right;\n",
       "    }\n",
       "</style>\n",
       "<table border=\"1\" class=\"dataframe\">\n",
       "  <thead>\n",
       "    <tr style=\"text-align: right;\">\n",
       "      <th></th>\n",
       "      <th>Total_Viviendas</th>\n",
       "      <th>Casas</th>\n",
       "      <th>Casas_indigenas</th>\n",
       "      <th>Apartamento</th>\n",
       "      <th>Tipo_Cuarto</th>\n",
       "      <th>Electrica_SI</th>\n",
       "      <th>Electrica_NO</th>\n",
       "      <th>GasNatural_SI</th>\n",
       "      <th>GasNatur_NO</th>\n",
       "      <th>Alcantarillado_SI</th>\n",
       "      <th>...</th>\n",
       "      <th>Total_Hogares</th>\n",
       "      <th>Total_Personas</th>\n",
       "      <th>HOMBRE</th>\n",
       "      <th>MUJER</th>\n",
       "      <th>Preescolar</th>\n",
       "      <th>Primaria</th>\n",
       "      <th>Secundaria</th>\n",
       "      <th>Especializacion</th>\n",
       "      <th>Ninguna_Educacion</th>\n",
       "      <th>No_responde</th>\n",
       "    </tr>\n",
       "  </thead>\n",
       "  <tbody>\n",
       "    <tr>\n",
       "      <th>count</th>\n",
       "      <td>574.000000</td>\n",
       "      <td>574.000000</td>\n",
       "      <td>0.0</td>\n",
       "      <td>574.000000</td>\n",
       "      <td>574.000000</td>\n",
       "      <td>574.000000</td>\n",
       "      <td>574.000000</td>\n",
       "      <td>574.000000</td>\n",
       "      <td>574.000000</td>\n",
       "      <td>574.000000</td>\n",
       "      <td>...</td>\n",
       "      <td>574.000000</td>\n",
       "      <td>574.000000</td>\n",
       "      <td>574.000000</td>\n",
       "      <td>574.000000</td>\n",
       "      <td>574.000000</td>\n",
       "      <td>574.000000</td>\n",
       "      <td>574.000000</td>\n",
       "      <td>574.000000</td>\n",
       "      <td>574.000000</td>\n",
       "      <td>574.000000</td>\n",
       "    </tr>\n",
       "    <tr>\n",
       "      <th>mean</th>\n",
       "      <td>31.297909</td>\n",
       "      <td>21.794425</td>\n",
       "      <td>NaN</td>\n",
       "      <td>8.290941</td>\n",
       "      <td>1.013937</td>\n",
       "      <td>30.167247</td>\n",
       "      <td>0.304878</td>\n",
       "      <td>23.388502</td>\n",
       "      <td>6.693380</td>\n",
       "      <td>29.895470</td>\n",
       "      <td>...</td>\n",
       "      <td>32.639373</td>\n",
       "      <td>116.825784</td>\n",
       "      <td>54.555749</td>\n",
       "      <td>62.270035</td>\n",
       "      <td>3.405923</td>\n",
       "      <td>32.839721</td>\n",
       "      <td>23.289199</td>\n",
       "      <td>1.421603</td>\n",
       "      <td>7.095819</td>\n",
       "      <td>48.773519</td>\n",
       "    </tr>\n",
       "    <tr>\n",
       "      <th>std</th>\n",
       "      <td>36.292444</td>\n",
       "      <td>24.748429</td>\n",
       "      <td>NaN</td>\n",
       "      <td>17.245604</td>\n",
       "      <td>2.531439</td>\n",
       "      <td>34.273715</td>\n",
       "      <td>2.635390</td>\n",
       "      <td>26.716283</td>\n",
       "      <td>11.329896</td>\n",
       "      <td>33.886829</td>\n",
       "      <td>...</td>\n",
       "      <td>38.517246</td>\n",
       "      <td>131.479038</td>\n",
       "      <td>61.771997</td>\n",
       "      <td>69.997745</td>\n",
       "      <td>5.040918</td>\n",
       "      <td>41.417705</td>\n",
       "      <td>26.763002</td>\n",
       "      <td>3.440842</td>\n",
       "      <td>11.231479</td>\n",
       "      <td>58.690250</td>\n",
       "    </tr>\n",
       "    <tr>\n",
       "      <th>min</th>\n",
       "      <td>0.000000</td>\n",
       "      <td>0.000000</td>\n",
       "      <td>NaN</td>\n",
       "      <td>0.000000</td>\n",
       "      <td>0.000000</td>\n",
       "      <td>0.000000</td>\n",
       "      <td>0.000000</td>\n",
       "      <td>0.000000</td>\n",
       "      <td>0.000000</td>\n",
       "      <td>0.000000</td>\n",
       "      <td>...</td>\n",
       "      <td>0.000000</td>\n",
       "      <td>0.000000</td>\n",
       "      <td>0.000000</td>\n",
       "      <td>0.000000</td>\n",
       "      <td>0.000000</td>\n",
       "      <td>0.000000</td>\n",
       "      <td>0.000000</td>\n",
       "      <td>0.000000</td>\n",
       "      <td>0.000000</td>\n",
       "      <td>0.000000</td>\n",
       "    </tr>\n",
       "    <tr>\n",
       "      <th>25%</th>\n",
       "      <td>16.000000</td>\n",
       "      <td>8.000000</td>\n",
       "      <td>NaN</td>\n",
       "      <td>1.000000</td>\n",
       "      <td>0.000000</td>\n",
       "      <td>15.000000</td>\n",
       "      <td>0.000000</td>\n",
       "      <td>11.000000</td>\n",
       "      <td>2.000000</td>\n",
       "      <td>15.000000</td>\n",
       "      <td>...</td>\n",
       "      <td>16.000000</td>\n",
       "      <td>56.000000</td>\n",
       "      <td>26.000000</td>\n",
       "      <td>30.000000</td>\n",
       "      <td>1.000000</td>\n",
       "      <td>13.000000</td>\n",
       "      <td>10.000000</td>\n",
       "      <td>0.000000</td>\n",
       "      <td>1.000000</td>\n",
       "      <td>18.000000</td>\n",
       "    </tr>\n",
       "    <tr>\n",
       "      <th>50%</th>\n",
       "      <td>26.000000</td>\n",
       "      <td>19.000000</td>\n",
       "      <td>NaN</td>\n",
       "      <td>4.000000</td>\n",
       "      <td>0.000000</td>\n",
       "      <td>25.000000</td>\n",
       "      <td>0.000000</td>\n",
       "      <td>19.000000</td>\n",
       "      <td>4.000000</td>\n",
       "      <td>25.000000</td>\n",
       "      <td>...</td>\n",
       "      <td>26.000000</td>\n",
       "      <td>100.000000</td>\n",
       "      <td>46.000000</td>\n",
       "      <td>52.500000</td>\n",
       "      <td>2.000000</td>\n",
       "      <td>27.000000</td>\n",
       "      <td>19.000000</td>\n",
       "      <td>0.000000</td>\n",
       "      <td>5.000000</td>\n",
       "      <td>38.000000</td>\n",
       "    </tr>\n",
       "    <tr>\n",
       "      <th>75%</th>\n",
       "      <td>38.000000</td>\n",
       "      <td>28.000000</td>\n",
       "      <td>NaN</td>\n",
       "      <td>9.000000</td>\n",
       "      <td>1.000000</td>\n",
       "      <td>37.000000</td>\n",
       "      <td>0.000000</td>\n",
       "      <td>30.000000</td>\n",
       "      <td>8.000000</td>\n",
       "      <td>37.000000</td>\n",
       "      <td>...</td>\n",
       "      <td>39.000000</td>\n",
       "      <td>146.000000</td>\n",
       "      <td>68.000000</td>\n",
       "      <td>78.000000</td>\n",
       "      <td>4.000000</td>\n",
       "      <td>42.000000</td>\n",
       "      <td>30.000000</td>\n",
       "      <td>2.000000</td>\n",
       "      <td>9.000000</td>\n",
       "      <td>62.750000</td>\n",
       "    </tr>\n",
       "    <tr>\n",
       "      <th>max</th>\n",
       "      <td>484.000000</td>\n",
       "      <td>346.000000</td>\n",
       "      <td>NaN</td>\n",
       "      <td>275.000000</td>\n",
       "      <td>40.000000</td>\n",
       "      <td>453.000000</td>\n",
       "      <td>54.000000</td>\n",
       "      <td>323.000000</td>\n",
       "      <td>154.000000</td>\n",
       "      <td>450.000000</td>\n",
       "      <td>...</td>\n",
       "      <td>538.000000</td>\n",
       "      <td>1850.000000</td>\n",
       "      <td>861.000000</td>\n",
       "      <td>989.000000</td>\n",
       "      <td>60.000000</td>\n",
       "      <td>685.000000</td>\n",
       "      <td>400.000000</td>\n",
       "      <td>50.000000</td>\n",
       "      <td>189.000000</td>\n",
       "      <td>727.000000</td>\n",
       "    </tr>\n",
       "  </tbody>\n",
       "</table>\n",
       "<p>8 rows × 23 columns</p>\n",
       "</div>"
      ],
      "text/plain": [
       "       Total_Viviendas       Casas  Casas_indigenas  Apartamento  Tipo_Cuarto  \\\n",
       "count       574.000000  574.000000              0.0   574.000000   574.000000   \n",
       "mean         31.297909   21.794425              NaN     8.290941     1.013937   \n",
       "std          36.292444   24.748429              NaN    17.245604     2.531439   \n",
       "min           0.000000    0.000000              NaN     0.000000     0.000000   \n",
       "25%          16.000000    8.000000              NaN     1.000000     0.000000   \n",
       "50%          26.000000   19.000000              NaN     4.000000     0.000000   \n",
       "75%          38.000000   28.000000              NaN     9.000000     1.000000   \n",
       "max         484.000000  346.000000              NaN   275.000000    40.000000   \n",
       "\n",
       "       Electrica_SI  Electrica_NO  GasNatural_SI  GasNatur_NO  \\\n",
       "count    574.000000    574.000000     574.000000   574.000000   \n",
       "mean      30.167247      0.304878      23.388502     6.693380   \n",
       "std       34.273715      2.635390      26.716283    11.329896   \n",
       "min        0.000000      0.000000       0.000000     0.000000   \n",
       "25%       15.000000      0.000000      11.000000     2.000000   \n",
       "50%       25.000000      0.000000      19.000000     4.000000   \n",
       "75%       37.000000      0.000000      30.000000     8.000000   \n",
       "max      453.000000     54.000000     323.000000   154.000000   \n",
       "\n",
       "       Alcantarillado_SI  ...  Total_Hogares  Total_Personas      HOMBRE  \\\n",
       "count         574.000000  ...     574.000000      574.000000  574.000000   \n",
       "mean           29.895470  ...      32.639373      116.825784   54.555749   \n",
       "std            33.886829  ...      38.517246      131.479038   61.771997   \n",
       "min             0.000000  ...       0.000000        0.000000    0.000000   \n",
       "25%            15.000000  ...      16.000000       56.000000   26.000000   \n",
       "50%            25.000000  ...      26.000000      100.000000   46.000000   \n",
       "75%            37.000000  ...      39.000000      146.000000   68.000000   \n",
       "max           450.000000  ...     538.000000     1850.000000  861.000000   \n",
       "\n",
       "            MUJER  Preescolar    Primaria  Secundaria  Especializacion  \\\n",
       "count  574.000000  574.000000  574.000000  574.000000       574.000000   \n",
       "mean    62.270035    3.405923   32.839721   23.289199         1.421603   \n",
       "std     69.997745    5.040918   41.417705   26.763002         3.440842   \n",
       "min      0.000000    0.000000    0.000000    0.000000         0.000000   \n",
       "25%     30.000000    1.000000   13.000000   10.000000         0.000000   \n",
       "50%     52.500000    2.000000   27.000000   19.000000         0.000000   \n",
       "75%     78.000000    4.000000   42.000000   30.000000         2.000000   \n",
       "max    989.000000   60.000000  685.000000  400.000000        50.000000   \n",
       "\n",
       "       Ninguna_Educacion  No_responde  \n",
       "count         574.000000   574.000000  \n",
       "mean            7.095819    48.773519  \n",
       "std            11.231479    58.690250  \n",
       "min             0.000000     0.000000  \n",
       "25%             1.000000    18.000000  \n",
       "50%             5.000000    38.000000  \n",
       "75%             9.000000    62.750000  \n",
       "max           189.000000   727.000000  \n",
       "\n",
       "[8 rows x 23 columns]"
      ]
     },
     "execution_count": 65,
     "metadata": {},
     "output_type": "execute_result"
    }
   ],
   "source": [
    "data_2002.describe()"
   ]
  },
  {
   "cell_type": "code",
   "execution_count": 66,
   "metadata": {},
   "outputs": [
    {
     "data": {
      "text/html": [
       "<div>\n",
       "<style scoped>\n",
       "    .dataframe tbody tr th:only-of-type {\n",
       "        vertical-align: middle;\n",
       "    }\n",
       "\n",
       "    .dataframe tbody tr th {\n",
       "        vertical-align: top;\n",
       "    }\n",
       "\n",
       "    .dataframe thead th {\n",
       "        text-align: right;\n",
       "    }\n",
       "</style>\n",
       "<table border=\"1\" class=\"dataframe\">\n",
       "  <thead>\n",
       "    <tr style=\"text-align: right;\">\n",
       "      <th></th>\n",
       "      <th>VERSION</th>\n",
       "      <th>AREA</th>\n",
       "      <th>Casa_indigena</th>\n",
       "      <th>Total_Viviendas</th>\n",
       "      <th>Casa</th>\n",
       "      <th>Apartamento</th>\n",
       "      <th>Tipo_Cuarto</th>\n",
       "      <th>Electrica_SI</th>\n",
       "      <th>Electrica_NO</th>\n",
       "      <th>Acueducto_SI</th>\n",
       "      <th>...</th>\n",
       "      <th>Total_Personas</th>\n",
       "      <th>HOMBRE</th>\n",
       "      <th>MUJER</th>\n",
       "      <th>Preescolar</th>\n",
       "      <th>Primaria</th>\n",
       "      <th>Secundaria</th>\n",
       "      <th>Especializacion</th>\n",
       "      <th>Ninguno</th>\n",
       "      <th>Ninguno.1</th>\n",
       "      <th>No_responde</th>\n",
       "    </tr>\n",
       "  </thead>\n",
       "  <tbody>\n",
       "    <tr>\n",
       "      <th>count</th>\n",
       "      <td>618.0</td>\n",
       "      <td>618.000000</td>\n",
       "      <td>618.0</td>\n",
       "      <td>618.000000</td>\n",
       "      <td>618.000000</td>\n",
       "      <td>618.000000</td>\n",
       "      <td>618.000000</td>\n",
       "      <td>618.000000</td>\n",
       "      <td>618.000000</td>\n",
       "      <td>618.000000</td>\n",
       "      <td>...</td>\n",
       "      <td>618.000000</td>\n",
       "      <td>618.000000</td>\n",
       "      <td>618.000000</td>\n",
       "      <td>618.000000</td>\n",
       "      <td>618.000000</td>\n",
       "      <td>618.000000</td>\n",
       "      <td>618.000000</td>\n",
       "      <td>618.000000</td>\n",
       "      <td>618.000000</td>\n",
       "      <td>618.000000</td>\n",
       "    </tr>\n",
       "    <tr>\n",
       "      <th>mean</th>\n",
       "      <td>2018.0</td>\n",
       "      <td>6241.777085</td>\n",
       "      <td>0.0</td>\n",
       "      <td>36.556634</td>\n",
       "      <td>22.762136</td>\n",
       "      <td>12.953074</td>\n",
       "      <td>0.786408</td>\n",
       "      <td>63.420712</td>\n",
       "      <td>0.082524</td>\n",
       "      <td>31.537217</td>\n",
       "      <td>...</td>\n",
       "      <td>94.773463</td>\n",
       "      <td>44.802589</td>\n",
       "      <td>49.970874</td>\n",
       "      <td>17.135922</td>\n",
       "      <td>12.161812</td>\n",
       "      <td>22.610032</td>\n",
       "      <td>1.744337</td>\n",
       "      <td>1.786408</td>\n",
       "      <td>1.472492</td>\n",
       "      <td>54.998382</td>\n",
       "    </tr>\n",
       "    <tr>\n",
       "      <th>std</th>\n",
       "      <td>0.0</td>\n",
       "      <td>31672.296709</td>\n",
       "      <td>0.0</td>\n",
       "      <td>64.740331</td>\n",
       "      <td>38.402796</td>\n",
       "      <td>44.955906</td>\n",
       "      <td>2.332147</td>\n",
       "      <td>112.575612</td>\n",
       "      <td>1.033312</td>\n",
       "      <td>56.039082</td>\n",
       "      <td>...</td>\n",
       "      <td>142.257524</td>\n",
       "      <td>72.728775</td>\n",
       "      <td>70.285104</td>\n",
       "      <td>27.561118</td>\n",
       "      <td>49.838374</td>\n",
       "      <td>46.873377</td>\n",
       "      <td>11.534432</td>\n",
       "      <td>2.882858</td>\n",
       "      <td>5.691706</td>\n",
       "      <td>53.305593</td>\n",
       "    </tr>\n",
       "    <tr>\n",
       "      <th>min</th>\n",
       "      <td>2018.0</td>\n",
       "      <td>58.290387</td>\n",
       "      <td>0.0</td>\n",
       "      <td>0.000000</td>\n",
       "      <td>0.000000</td>\n",
       "      <td>0.000000</td>\n",
       "      <td>0.000000</td>\n",
       "      <td>0.000000</td>\n",
       "      <td>0.000000</td>\n",
       "      <td>0.000000</td>\n",
       "      <td>...</td>\n",
       "      <td>0.000000</td>\n",
       "      <td>0.000000</td>\n",
       "      <td>0.000000</td>\n",
       "      <td>0.000000</td>\n",
       "      <td>0.000000</td>\n",
       "      <td>0.000000</td>\n",
       "      <td>0.000000</td>\n",
       "      <td>0.000000</td>\n",
       "      <td>0.000000</td>\n",
       "      <td>0.000000</td>\n",
       "    </tr>\n",
       "    <tr>\n",
       "      <th>25%</th>\n",
       "      <td>2018.0</td>\n",
       "      <td>1153.578599</td>\n",
       "      <td>0.0</td>\n",
       "      <td>15.000000</td>\n",
       "      <td>8.000000</td>\n",
       "      <td>0.000000</td>\n",
       "      <td>0.000000</td>\n",
       "      <td>24.000000</td>\n",
       "      <td>0.000000</td>\n",
       "      <td>12.000000</td>\n",
       "      <td>...</td>\n",
       "      <td>38.000000</td>\n",
       "      <td>17.250000</td>\n",
       "      <td>20.000000</td>\n",
       "      <td>0.000000</td>\n",
       "      <td>0.000000</td>\n",
       "      <td>0.000000</td>\n",
       "      <td>0.000000</td>\n",
       "      <td>0.000000</td>\n",
       "      <td>0.000000</td>\n",
       "      <td>25.000000</td>\n",
       "    </tr>\n",
       "    <tr>\n",
       "      <th>50%</th>\n",
       "      <td>2018.0</td>\n",
       "      <td>1902.007629</td>\n",
       "      <td>0.0</td>\n",
       "      <td>27.000000</td>\n",
       "      <td>18.000000</td>\n",
       "      <td>3.000000</td>\n",
       "      <td>0.000000</td>\n",
       "      <td>48.000000</td>\n",
       "      <td>0.000000</td>\n",
       "      <td>24.000000</td>\n",
       "      <td>...</td>\n",
       "      <td>73.000000</td>\n",
       "      <td>34.000000</td>\n",
       "      <td>39.000000</td>\n",
       "      <td>10.000000</td>\n",
       "      <td>0.000000</td>\n",
       "      <td>13.000000</td>\n",
       "      <td>0.000000</td>\n",
       "      <td>1.000000</td>\n",
       "      <td>0.000000</td>\n",
       "      <td>47.000000</td>\n",
       "    </tr>\n",
       "    <tr>\n",
       "      <th>75%</th>\n",
       "      <td>2018.0</td>\n",
       "      <td>3327.372506</td>\n",
       "      <td>0.0</td>\n",
       "      <td>39.750000</td>\n",
       "      <td>28.750000</td>\n",
       "      <td>9.000000</td>\n",
       "      <td>1.000000</td>\n",
       "      <td>70.000000</td>\n",
       "      <td>0.000000</td>\n",
       "      <td>35.000000</td>\n",
       "      <td>...</td>\n",
       "      <td>109.750000</td>\n",
       "      <td>53.000000</td>\n",
       "      <td>58.750000</td>\n",
       "      <td>26.000000</td>\n",
       "      <td>0.000000</td>\n",
       "      <td>28.000000</td>\n",
       "      <td>0.000000</td>\n",
       "      <td>3.000000</td>\n",
       "      <td>1.000000</td>\n",
       "      <td>73.000000</td>\n",
       "    </tr>\n",
       "    <tr>\n",
       "      <th>max</th>\n",
       "      <td>2018.0</td>\n",
       "      <td>525251.809958</td>\n",
       "      <td>0.0</td>\n",
       "      <td>1075.000000</td>\n",
       "      <td>809.000000</td>\n",
       "      <td>701.000000</td>\n",
       "      <td>33.000000</td>\n",
       "      <td>2120.000000</td>\n",
       "      <td>25.000000</td>\n",
       "      <td>1050.000000</td>\n",
       "      <td>...</td>\n",
       "      <td>2379.000000</td>\n",
       "      <td>1324.000000</td>\n",
       "      <td>1055.000000</td>\n",
       "      <td>384.000000</td>\n",
       "      <td>922.000000</td>\n",
       "      <td>661.000000</td>\n",
       "      <td>166.000000</td>\n",
       "      <td>43.000000</td>\n",
       "      <td>121.000000</td>\n",
       "      <td>625.000000</td>\n",
       "    </tr>\n",
       "  </tbody>\n",
       "</table>\n",
       "<p>8 rows × 25 columns</p>\n",
       "</div>"
      ],
      "text/plain": [
       "       VERSION           AREA  Casa_indigena  Total_Viviendas        Casa  \\\n",
       "count    618.0     618.000000          618.0       618.000000  618.000000   \n",
       "mean    2018.0    6241.777085            0.0        36.556634   22.762136   \n",
       "std        0.0   31672.296709            0.0        64.740331   38.402796   \n",
       "min     2018.0      58.290387            0.0         0.000000    0.000000   \n",
       "25%     2018.0    1153.578599            0.0        15.000000    8.000000   \n",
       "50%     2018.0    1902.007629            0.0        27.000000   18.000000   \n",
       "75%     2018.0    3327.372506            0.0        39.750000   28.750000   \n",
       "max     2018.0  525251.809958            0.0      1075.000000  809.000000   \n",
       "\n",
       "       Apartamento  Tipo_Cuarto  Electrica_SI  Electrica_NO  Acueducto_SI  \\\n",
       "count   618.000000   618.000000    618.000000    618.000000    618.000000   \n",
       "mean     12.953074     0.786408     63.420712      0.082524     31.537217   \n",
       "std      44.955906     2.332147    112.575612      1.033312     56.039082   \n",
       "min       0.000000     0.000000      0.000000      0.000000      0.000000   \n",
       "25%       0.000000     0.000000     24.000000      0.000000     12.000000   \n",
       "50%       3.000000     0.000000     48.000000      0.000000     24.000000   \n",
       "75%       9.000000     1.000000     70.000000      0.000000     35.000000   \n",
       "max     701.000000    33.000000   2120.000000     25.000000   1050.000000   \n",
       "\n",
       "       ...  Total_Personas       HOMBRE        MUJER  Preescolar    Primaria  \\\n",
       "count  ...      618.000000   618.000000   618.000000  618.000000  618.000000   \n",
       "mean   ...       94.773463    44.802589    49.970874   17.135922   12.161812   \n",
       "std    ...      142.257524    72.728775    70.285104   27.561118   49.838374   \n",
       "min    ...        0.000000     0.000000     0.000000    0.000000    0.000000   \n",
       "25%    ...       38.000000    17.250000    20.000000    0.000000    0.000000   \n",
       "50%    ...       73.000000    34.000000    39.000000   10.000000    0.000000   \n",
       "75%    ...      109.750000    53.000000    58.750000   26.000000    0.000000   \n",
       "max    ...     2379.000000  1324.000000  1055.000000  384.000000  922.000000   \n",
       "\n",
       "       Secundaria  Especializacion     Ninguno   Ninguno.1  No_responde  \n",
       "count  618.000000       618.000000  618.000000  618.000000   618.000000  \n",
       "mean    22.610032         1.744337    1.786408    1.472492    54.998382  \n",
       "std     46.873377        11.534432    2.882858    5.691706    53.305593  \n",
       "min      0.000000         0.000000    0.000000    0.000000     0.000000  \n",
       "25%      0.000000         0.000000    0.000000    0.000000    25.000000  \n",
       "50%     13.000000         0.000000    1.000000    0.000000    47.000000  \n",
       "75%     28.000000         0.000000    3.000000    1.000000    73.000000  \n",
       "max    661.000000       166.000000   43.000000  121.000000   625.000000  \n",
       "\n",
       "[8 rows x 25 columns]"
      ]
     },
     "execution_count": 66,
     "metadata": {},
     "output_type": "execute_result"
    }
   ],
   "source": [
    "data_2018.describe()"
   ]
  },
  {
   "cell_type": "markdown",
   "metadata": {},
   "source": [
    "## Pregunta 1"
   ]
  },
  {
   "cell_type": "markdown",
   "metadata": {},
   "source": [
    "### Cuál es el porcentaje (rata) de aparición de nuevas manzanas cada 3 años"
   ]
  },
  {
   "cell_type": "markdown",
   "metadata": {},
   "source": [
    "Para obtener el resultado de la pregunta 1 empezaremos por contar la cantidad de manzanas que hay cada año."
   ]
  },
  {
   "cell_type": "code",
   "execution_count": 67,
   "metadata": {},
   "outputs": [
    {
     "data": {
      "text/plain": [
       "574"
      ]
     },
     "execution_count": 67,
     "metadata": {},
     "output_type": "execute_result"
    }
   ],
   "source": [
    "data_2002.COD_DANE.count()"
   ]
  },
  {
   "cell_type": "code",
   "execution_count": 68,
   "metadata": {},
   "outputs": [
    {
     "data": {
      "text/plain": [
       "618"
      ]
     },
     "execution_count": 68,
     "metadata": {},
     "output_type": "execute_result"
    }
   ],
   "source": [
    "data_2018.COD_DANE_A.count()"
   ]
  },
  {
   "cell_type": "markdown",
   "metadata": {},
   "source": [
    "Calculando la diferencia entre la cantidad de manzanas que han aparecido entre los años 2002 y 2018 vemos que hay 44 manzanas nuevas. Consecuentemente podemos calcular la cantidad de manzanas que han aparecido al año:\n",
    "\n",
    "$$\\frac{44\\> \\mathrm{manzanas}}{16\\> \\mathrm{años}}= 2,75 \\>\\mathrm{manzanas\\>al\\>año}$$\n",
    "\n",
    "De esta manera podemos calcular que en tres años hay un incremento de 8,25 manzanas. Para calcular el porcentaje de crecimiento utilizaremos una regla de tres: $$\\frac{8,25}{574\\> \\mathrm{manzanas}}\\times 100 = 1,44\\% $$"
   ]
  },
  {
   "cell_type": "markdown",
   "metadata": {},
   "source": [
    "## Pregunta 2"
   ]
  },
  {
   "cell_type": "markdown",
   "metadata": {},
   "source": [
    "### Cuál es la proyección de hombres por hogar al año 2025"
   ]
  },
  {
   "cell_type": "markdown",
   "metadata": {},
   "source": [
    "Para comenzar sumaremos la cantidad de hombres que había en cada año utilizando el comando <code>.sum()</code>"
   ]
  },
  {
   "cell_type": "code",
   "execution_count": 69,
   "metadata": {},
   "outputs": [
    {
     "data": {
      "text/plain": [
       "31315"
      ]
     },
     "execution_count": 69,
     "metadata": {},
     "output_type": "execute_result"
    }
   ],
   "source": [
    "data_2002.HOMBRE.sum()"
   ]
  },
  {
   "cell_type": "code",
   "execution_count": 70,
   "metadata": {},
   "outputs": [
    {
     "data": {
      "text/plain": [
       "27688"
      ]
     },
     "execution_count": 70,
     "metadata": {},
     "output_type": "execute_result"
    }
   ],
   "source": [
    "data_2018.HOMBRE.sum()"
   ]
  },
  {
   "cell_type": "markdown",
   "metadata": {},
   "source": [
    "Despueés procederemos a calcular la tasa de crecimiento de los hombres entre estos años: $$\\frac{27688-31315}{2018-2002}=-226,68\\> \\mathrm{hombres\\> por \\> año}$$ De esa manera podemos obtener una ecuación lineal que nos permitirá saber la población de hombres que habrá para el año 2025. $$y=27688-226,68\\times (2025-2018) \\approx 26101.$$ Para el año 2025 esperamos tener una reducción de hombres hasta una población de 26101."
   ]
  },
  {
   "cell_type": "markdown",
   "metadata": {},
   "source": [
    "## Pregunta 3"
   ]
  },
  {
   "cell_type": "markdown",
   "metadata": {},
   "source": [
    "### Cuál es el porcentaje de aumento de escolaridad por unidad de área para las categorías de preescolar y especialización"
   ]
  },
  {
   "cell_type": "markdown",
   "metadata": {},
   "source": [
    "Comenzaremos por crear dos listas distintas. En una de ellas guardaremos el aumento de escolaridad por unidad de área para aquellas manzanas que ya existían en 2002 y en otra aquellas que han sido contruidas durante ese periodo de tiempo. Después juntaremos las dos listas en una última lista que tendrá el porcentaje de aumento de cada manzana."
   ]
  },
  {
   "cell_type": "code",
   "execution_count": 71,
   "metadata": {},
   "outputs": [],
   "source": [
    "aumento_lista_existente_preescolar = []\n",
    "aumento_lista_existente_preescolar = [(data_2018.loc[data_2018.COD_DANE_A == manzana, 'Preescolar'].iloc[0]-data_2002.loc[data_2002.COD_DANE == manzana, 'Preescolar'].iloc[0])*100/data_2018.loc[data_2018.COD_DANE_A == manzana, 'AREA'].iloc[0] for manzana in data_2018.COD_DANE_A if manzana not in aumento_lista_existente_preescolar and manzana in data_2002.COD_DANE]\n",
    "aumento_lista_nueva_preescolar = [(data_2018.loc[data_2018.COD_DANE_A == manzana, 'Preescolar'].iloc[0])*100/data_2018.loc[data_2018.COD_DANE_A == manzana, 'AREA'].iloc[0] for manzana in data_2018.COD_DANE_A if manzana not in aumento_lista_existente_preescolar and manzana not in data_2002.COD_DANE]\n",
    "aumento_lista_preescolar = [*aumento_lista_existente_preescolar, *aumento_lista_nueva_preescolar]"
   ]
  },
  {
   "cell_type": "markdown",
   "metadata": {},
   "source": [
    "Guardaremos estas listas en DataFrames ya que nos permiten tener una visualización más clara de la información y nos conceden la oportunidad de utilizar métodos que nos serán necesarios más adelante."
   ]
  },
  {
   "cell_type": "code",
   "execution_count": 72,
   "metadata": {},
   "outputs": [
    {
     "data": {
      "text/html": [
       "<div>\n",
       "<style scoped>\n",
       "    .dataframe tbody tr th:only-of-type {\n",
       "        vertical-align: middle;\n",
       "    }\n",
       "\n",
       "    .dataframe tbody tr th {\n",
       "        vertical-align: top;\n",
       "    }\n",
       "\n",
       "    .dataframe thead th {\n",
       "        text-align: right;\n",
       "    }\n",
       "</style>\n",
       "<table border=\"1\" class=\"dataframe\">\n",
       "  <thead>\n",
       "    <tr style=\"text-align: right;\">\n",
       "      <th></th>\n",
       "      <th>Porcentaje de Aumento por Area (Preescolar)</th>\n",
       "    </tr>\n",
       "  </thead>\n",
       "  <tbody>\n",
       "    <tr>\n",
       "      <th>0</th>\n",
       "      <td>0.334581</td>\n",
       "    </tr>\n",
       "    <tr>\n",
       "      <th>1</th>\n",
       "      <td>0.000000</td>\n",
       "    </tr>\n",
       "    <tr>\n",
       "      <th>2</th>\n",
       "      <td>0.000000</td>\n",
       "    </tr>\n",
       "    <tr>\n",
       "      <th>3</th>\n",
       "      <td>0.249150</td>\n",
       "    </tr>\n",
       "    <tr>\n",
       "      <th>4</th>\n",
       "      <td>0.611904</td>\n",
       "    </tr>\n",
       "  </tbody>\n",
       "</table>\n",
       "</div>"
      ],
      "text/plain": [
       "   Porcentaje de Aumento por Area (Preescolar)\n",
       "0                                     0.334581\n",
       "1                                     0.000000\n",
       "2                                     0.000000\n",
       "3                                     0.249150\n",
       "4                                     0.611904"
      ]
     },
     "execution_count": 72,
     "metadata": {},
     "output_type": "execute_result"
    }
   ],
   "source": [
    "aumento_preescolar = pd.DataFrame(aumento_lista_preescolar, columns=['Porcentaje de Aumento por Area (Preescolar)'])\n",
    "aumento_preescolar.head()"
   ]
  },
  {
   "cell_type": "markdown",
   "metadata": {},
   "source": [
    "Repetimos el proceso por cada categoría."
   ]
  },
  {
   "cell_type": "code",
   "execution_count": 73,
   "metadata": {},
   "outputs": [],
   "source": [
    "aumento_lista_existente_especializacion = []\n",
    "aumento_lista_existente_especializacion = [(data_2018.loc[data_2018.COD_DANE_A == manzana, 'Especializacion'].iloc[0]-data_2002.loc[data_2002.COD_DANE == manzana, 'Especializacion'].iloc[0])*100/data_2018.loc[data_2018.COD_DANE_A == manzana, 'AREA'].iloc[0] for manzana in data_2018.COD_DANE_A if manzana not in aumento_lista_existente_especializacion and manzana in data_2002.COD_DANE]\n",
    "aumento_lista_nueva_especializacion = [(data_2018.loc[data_2018.COD_DANE_A == manzana, 'Especializacion'].iloc[0])*100/data_2018.loc[data_2018.COD_DANE_A == manzana, 'AREA'].iloc[0] for manzana in data_2018.COD_DANE_A if manzana not in aumento_lista_existente_especializacion and manzana not in data_2002.COD_DANE]\n",
    "aumento_lista_especializacion = [*aumento_lista_existente_especializacion, *aumento_lista_nueva_especializacion]"
   ]
  },
  {
   "cell_type": "code",
   "execution_count": 74,
   "metadata": {},
   "outputs": [
    {
     "data": {
      "text/html": [
       "<div>\n",
       "<style scoped>\n",
       "    .dataframe tbody tr th:only-of-type {\n",
       "        vertical-align: middle;\n",
       "    }\n",
       "\n",
       "    .dataframe tbody tr th {\n",
       "        vertical-align: top;\n",
       "    }\n",
       "\n",
       "    .dataframe thead th {\n",
       "        text-align: right;\n",
       "    }\n",
       "</style>\n",
       "<table border=\"1\" class=\"dataframe\">\n",
       "  <thead>\n",
       "    <tr style=\"text-align: right;\">\n",
       "      <th></th>\n",
       "      <th>Porcentaje de Aumento por Area (Especializacion)</th>\n",
       "    </tr>\n",
       "  </thead>\n",
       "  <tbody>\n",
       "    <tr>\n",
       "      <th>0</th>\n",
       "      <td>0.0</td>\n",
       "    </tr>\n",
       "    <tr>\n",
       "      <th>1</th>\n",
       "      <td>0.0</td>\n",
       "    </tr>\n",
       "    <tr>\n",
       "      <th>2</th>\n",
       "      <td>0.0</td>\n",
       "    </tr>\n",
       "    <tr>\n",
       "      <th>3</th>\n",
       "      <td>0.0</td>\n",
       "    </tr>\n",
       "    <tr>\n",
       "      <th>4</th>\n",
       "      <td>0.0</td>\n",
       "    </tr>\n",
       "    <tr>\n",
       "      <th>...</th>\n",
       "      <td>...</td>\n",
       "    </tr>\n",
       "    <tr>\n",
       "      <th>613</th>\n",
       "      <td>0.0</td>\n",
       "    </tr>\n",
       "    <tr>\n",
       "      <th>614</th>\n",
       "      <td>0.0</td>\n",
       "    </tr>\n",
       "    <tr>\n",
       "      <th>615</th>\n",
       "      <td>0.0</td>\n",
       "    </tr>\n",
       "    <tr>\n",
       "      <th>616</th>\n",
       "      <td>0.0</td>\n",
       "    </tr>\n",
       "    <tr>\n",
       "      <th>617</th>\n",
       "      <td>0.0</td>\n",
       "    </tr>\n",
       "  </tbody>\n",
       "</table>\n",
       "<p>618 rows × 1 columns</p>\n",
       "</div>"
      ],
      "text/plain": [
       "     Porcentaje de Aumento por Area (Especializacion)\n",
       "0                                                 0.0\n",
       "1                                                 0.0\n",
       "2                                                 0.0\n",
       "3                                                 0.0\n",
       "4                                                 0.0\n",
       "..                                                ...\n",
       "613                                               0.0\n",
       "614                                               0.0\n",
       "615                                               0.0\n",
       "616                                               0.0\n",
       "617                                               0.0\n",
       "\n",
       "[618 rows x 1 columns]"
      ]
     },
     "execution_count": 74,
     "metadata": {},
     "output_type": "execute_result"
    }
   ],
   "source": [
    "aumento_especializacion = pd.DataFrame(aumento_lista_especializacion, columns=['Porcentaje de Aumento por Area (Especializacion)'])\n",
    "aumento_especializacion"
   ]
  },
  {
   "cell_type": "markdown",
   "metadata": {},
   "source": [
    "Checkeando la cantidad de valores diferentes a 0 en el DataFrame."
   ]
  },
  {
   "cell_type": "code",
   "execution_count": 75,
   "metadata": {},
   "outputs": [
    {
     "name": "stdout",
     "output_type": "stream",
     "text": [
      "40\n"
     ]
    }
   ],
   "source": [
    "print(np.count_nonzero(aumento_especializacion))"
   ]
  },
  {
   "cell_type": "markdown",
   "metadata": {},
   "source": [
    "Finalmente para obtener el porcentaje de aumento de escolaridad por unidad de área para las categorías de preescolar y especialización calcularemos la media de todos los valores. Para ello podemos utilizar el metodo <code> .describe() </code> ya que nos ofrece este dato directamente."
   ]
  },
  {
   "cell_type": "code",
   "execution_count": 76,
   "metadata": {},
   "outputs": [
    {
     "data": {
      "text/html": [
       "<div>\n",
       "<style scoped>\n",
       "    .dataframe tbody tr th:only-of-type {\n",
       "        vertical-align: middle;\n",
       "    }\n",
       "\n",
       "    .dataframe tbody tr th {\n",
       "        vertical-align: top;\n",
       "    }\n",
       "\n",
       "    .dataframe thead th {\n",
       "        text-align: right;\n",
       "    }\n",
       "</style>\n",
       "<table border=\"1\" class=\"dataframe\">\n",
       "  <thead>\n",
       "    <tr style=\"text-align: right;\">\n",
       "      <th></th>\n",
       "      <th>Porcentaje de Aumento por Area (Preescolar)</th>\n",
       "    </tr>\n",
       "  </thead>\n",
       "  <tbody>\n",
       "    <tr>\n",
       "      <th>count</th>\n",
       "      <td>618.000000</td>\n",
       "    </tr>\n",
       "    <tr>\n",
       "      <th>mean</th>\n",
       "      <td>0.702652</td>\n",
       "    </tr>\n",
       "    <tr>\n",
       "      <th>std</th>\n",
       "      <td>0.876323</td>\n",
       "    </tr>\n",
       "    <tr>\n",
       "      <th>min</th>\n",
       "      <td>0.000000</td>\n",
       "    </tr>\n",
       "    <tr>\n",
       "      <th>25%</th>\n",
       "      <td>0.000000</td>\n",
       "    </tr>\n",
       "    <tr>\n",
       "      <th>50%</th>\n",
       "      <td>0.362699</td>\n",
       "    </tr>\n",
       "    <tr>\n",
       "      <th>75%</th>\n",
       "      <td>1.284107</td>\n",
       "    </tr>\n",
       "    <tr>\n",
       "      <th>max</th>\n",
       "      <td>6.112752</td>\n",
       "    </tr>\n",
       "  </tbody>\n",
       "</table>\n",
       "</div>"
      ],
      "text/plain": [
       "       Porcentaje de Aumento por Area (Preescolar)\n",
       "count                                   618.000000\n",
       "mean                                      0.702652\n",
       "std                                       0.876323\n",
       "min                                       0.000000\n",
       "25%                                       0.000000\n",
       "50%                                       0.362699\n",
       "75%                                       1.284107\n",
       "max                                       6.112752"
      ]
     },
     "execution_count": 76,
     "metadata": {},
     "output_type": "execute_result"
    }
   ],
   "source": [
    "aumento_preescolar.describe()"
   ]
  },
  {
   "cell_type": "code",
   "execution_count": 77,
   "metadata": {},
   "outputs": [
    {
     "data": {
      "text/html": [
       "<div>\n",
       "<style scoped>\n",
       "    .dataframe tbody tr th:only-of-type {\n",
       "        vertical-align: middle;\n",
       "    }\n",
       "\n",
       "    .dataframe tbody tr th {\n",
       "        vertical-align: top;\n",
       "    }\n",
       "\n",
       "    .dataframe thead th {\n",
       "        text-align: right;\n",
       "    }\n",
       "</style>\n",
       "<table border=\"1\" class=\"dataframe\">\n",
       "  <thead>\n",
       "    <tr style=\"text-align: right;\">\n",
       "      <th></th>\n",
       "      <th>Porcentaje de Aumento por Area (Especializacion)</th>\n",
       "    </tr>\n",
       "  </thead>\n",
       "  <tbody>\n",
       "    <tr>\n",
       "      <th>count</th>\n",
       "      <td>618.000000</td>\n",
       "    </tr>\n",
       "    <tr>\n",
       "      <th>mean</th>\n",
       "      <td>0.024358</td>\n",
       "    </tr>\n",
       "    <tr>\n",
       "      <th>std</th>\n",
       "      <td>0.125948</td>\n",
       "    </tr>\n",
       "    <tr>\n",
       "      <th>min</th>\n",
       "      <td>0.000000</td>\n",
       "    </tr>\n",
       "    <tr>\n",
       "      <th>25%</th>\n",
       "      <td>0.000000</td>\n",
       "    </tr>\n",
       "    <tr>\n",
       "      <th>50%</th>\n",
       "      <td>0.000000</td>\n",
       "    </tr>\n",
       "    <tr>\n",
       "      <th>75%</th>\n",
       "      <td>0.000000</td>\n",
       "    </tr>\n",
       "    <tr>\n",
       "      <th>max</th>\n",
       "      <td>1.830642</td>\n",
       "    </tr>\n",
       "  </tbody>\n",
       "</table>\n",
       "</div>"
      ],
      "text/plain": [
       "       Porcentaje de Aumento por Area (Especializacion)\n",
       "count                                        618.000000\n",
       "mean                                           0.024358\n",
       "std                                            0.125948\n",
       "min                                            0.000000\n",
       "25%                                            0.000000\n",
       "50%                                            0.000000\n",
       "75%                                            0.000000\n",
       "max                                            1.830642"
      ]
     },
     "execution_count": 77,
     "metadata": {},
     "output_type": "execute_result"
    }
   ],
   "source": [
    "aumento_especializacion.describe()"
   ]
  },
  {
   "cell_type": "markdown",
   "metadata": {},
   "source": [
    "Analizando los datos vemos que el aumento de escolarización por unidad de área para la categoría de Preescolar es del 70,2%. Repitiendo el mismo porceso para el caso de Especialización tenemos que el aumento es del 2,43%."
   ]
  },
  {
   "cell_type": "markdown",
   "metadata": {},
   "source": [
    "Por otro lado, debajo se deja una función general que nos permite calcular todo lo anterior sin necesidad de escribir todo el código de nuevo:"
   ]
  },
  {
   "cell_type": "code",
   "execution_count": 78,
   "metadata": {},
   "outputs": [],
   "source": [
    "def aumento_escolaridad(data_vieja, data_nueva, categoria):\n",
    "    \"\"\"Función de cálculo para el aumento_escolaridad por categorías.\n",
    "\n",
    "    Args:\n",
    "        data_vieja (DataFrame): DataFrame conteniendo datos del año más viejo\n",
    "        data_nueva (DataFrame): DataFrame conteniendo datos del año más nuevo\n",
    "        categoria (str): Categoría que se quiere analizar\n",
    "\n",
    "    Returns:\n",
    "        aumento [DataFrame]: Devuelve un DataFrame con el aumento de escolarización por unidad de área para la categoría seleccionada.\n",
    "    \"\"\"\n",
    "\n",
    "    aumento_lista_existente = []\n",
    "    aumento_lista_existente = [(data_nueva.loc[data_nueva.COD_DANE_A == manzana, categoria].iloc[0]-data_vieja.loc[data_vieja.COD_DANE == manzana, categoria].iloc[0])*100/data_nueva.loc[data_nueva.COD_DANE_A == manzana, 'AREA'].iloc[0] for manzana in data_nueva.COD_DANE_A if manzana not in aumento_lista_existente and manzana in data_vieja.COD_DANE]\n",
    "    aumento_lista_nueva = [(data_nueva.loc[data_nueva.COD_DANE_A == manzana, categoria].iloc[0])*100/data_nueva.loc[data_nueva.COD_DANE_A == manzana, 'AREA'].iloc[0] for manzana in data_nueva.COD_DANE_A if manzana not in aumento_lista_existente and manzana not in data_vieja.COD_DANE]\n",
    "    aumento_lista = [*aumento_lista_existente, *aumento_lista_nueva]\n",
    "    aumento = pd.DataFrame(aumento_lista, columns=['Porcentaje de Aumento por Area ('+ categoria +')'])\n",
    "    return aumento"
   ]
  },
  {
   "cell_type": "markdown",
   "metadata": {},
   "source": [
    "Comprobamos el correcto funcionamiento con la categoría de Secundaria:"
   ]
  },
  {
   "cell_type": "code",
   "execution_count": 79,
   "metadata": {},
   "outputs": [],
   "source": [
    "aumento_secundaria = aumento_escolaridad(data_2002, data_2018, 'Secundaria')"
   ]
  },
  {
   "cell_type": "code",
   "execution_count": 80,
   "metadata": {},
   "outputs": [
    {
     "data": {
      "text/html": [
       "<div>\n",
       "<style scoped>\n",
       "    .dataframe tbody tr th:only-of-type {\n",
       "        vertical-align: middle;\n",
       "    }\n",
       "\n",
       "    .dataframe tbody tr th {\n",
       "        vertical-align: top;\n",
       "    }\n",
       "\n",
       "    .dataframe thead th {\n",
       "        text-align: right;\n",
       "    }\n",
       "</style>\n",
       "<table border=\"1\" class=\"dataframe\">\n",
       "  <thead>\n",
       "    <tr style=\"text-align: right;\">\n",
       "      <th></th>\n",
       "      <th>Porcentaje de Aumento por Area (Secundaria)</th>\n",
       "    </tr>\n",
       "  </thead>\n",
       "  <tbody>\n",
       "    <tr>\n",
       "      <th>count</th>\n",
       "      <td>618.000000</td>\n",
       "    </tr>\n",
       "    <tr>\n",
       "      <th>mean</th>\n",
       "      <td>0.761449</td>\n",
       "    </tr>\n",
       "    <tr>\n",
       "      <th>std</th>\n",
       "      <td>0.829247</td>\n",
       "    </tr>\n",
       "    <tr>\n",
       "      <th>min</th>\n",
       "      <td>0.000000</td>\n",
       "    </tr>\n",
       "    <tr>\n",
       "      <th>25%</th>\n",
       "      <td>0.000000</td>\n",
       "    </tr>\n",
       "    <tr>\n",
       "      <th>50%</th>\n",
       "      <td>0.711170</td>\n",
       "    </tr>\n",
       "    <tr>\n",
       "      <th>75%</th>\n",
       "      <td>1.208671</td>\n",
       "    </tr>\n",
       "    <tr>\n",
       "      <th>max</th>\n",
       "      <td>10.522211</td>\n",
       "    </tr>\n",
       "  </tbody>\n",
       "</table>\n",
       "</div>"
      ],
      "text/plain": [
       "       Porcentaje de Aumento por Area (Secundaria)\n",
       "count                                   618.000000\n",
       "mean                                      0.761449\n",
       "std                                       0.829247\n",
       "min                                       0.000000\n",
       "25%                                       0.000000\n",
       "50%                                       0.711170\n",
       "75%                                       1.208671\n",
       "max                                      10.522211"
      ]
     },
     "execution_count": 80,
     "metadata": {},
     "output_type": "execute_result"
    }
   ],
   "source": [
    "aumento_secundaria.describe()"
   ]
  },
  {
   "cell_type": "markdown",
   "metadata": {},
   "source": [
    "## Pregunta 4"
   ]
  },
  {
   "cell_type": "markdown",
   "metadata": {},
   "source": [
    "### En que año estará la población totalmente escolarizada"
   ]
  },
  {
   "cell_type": "markdown",
   "metadata": {},
   "source": [
    "Para poder crear un modelo lo primero que necesitaremos es reordenar los datos para poder utilizar la información de los dos años. Esto se ha hecho haciendo uso de Excel. De esta manera directamente tendremos que leer los datos provenientes de los archivos Excel limpios:"
   ]
  },
  {
   "cell_type": "code",
   "execution_count": 81,
   "metadata": {},
   "outputs": [],
   "source": [
    "data_2002_clean = pd.read_csv('Data/Censo_2002_clean.csv', sep=';')\n",
    "data_2018_clean = pd.read_csv('Data/Censo_2018_clean.csv', sep=';')"
   ]
  },
  {
   "cell_type": "code",
   "execution_count": 82,
   "metadata": {},
   "outputs": [
    {
     "data": {
      "text/html": [
       "<div>\n",
       "<style scoped>\n",
       "    .dataframe tbody tr th:only-of-type {\n",
       "        vertical-align: middle;\n",
       "    }\n",
       "\n",
       "    .dataframe tbody tr th {\n",
       "        vertical-align: top;\n",
       "    }\n",
       "\n",
       "    .dataframe thead th {\n",
       "        text-align: right;\n",
       "    }\n",
       "</style>\n",
       "<table border=\"1\" class=\"dataframe\">\n",
       "  <thead>\n",
       "    <tr style=\"text-align: right;\">\n",
       "      <th></th>\n",
       "      <th>COD_DANE</th>\n",
       "      <th>VERSION</th>\n",
       "      <th>AREA</th>\n",
       "      <th>Total_Viviendas</th>\n",
       "      <th>Casa</th>\n",
       "      <th>Apartamento</th>\n",
       "      <th>Tipo_Cuarto</th>\n",
       "      <th>Electrica_SI</th>\n",
       "      <th>Electrica_NO</th>\n",
       "      <th>GasNatural_SI</th>\n",
       "      <th>...</th>\n",
       "      <th>HOMBRE</th>\n",
       "      <th>MUJER</th>\n",
       "      <th>Preescolar</th>\n",
       "      <th>Primaria</th>\n",
       "      <th>Secundaria</th>\n",
       "      <th>Especializacion</th>\n",
       "      <th>Ninguna_Educacion</th>\n",
       "      <th>No_responde</th>\n",
       "      <th>Ninguno</th>\n",
       "      <th>Ninguno.1</th>\n",
       "    </tr>\n",
       "  </thead>\n",
       "  <tbody>\n",
       "    <tr>\n",
       "      <th>0</th>\n",
       "      <td>7300110000000000000000</td>\n",
       "      <td>2018</td>\n",
       "      <td>5379.862696</td>\n",
       "      <td>30</td>\n",
       "      <td>12</td>\n",
       "      <td>18</td>\n",
       "      <td>0</td>\n",
       "      <td>46</td>\n",
       "      <td>0</td>\n",
       "      <td>23</td>\n",
       "      <td>...</td>\n",
       "      <td>45</td>\n",
       "      <td>42</td>\n",
       "      <td>18</td>\n",
       "      <td>0</td>\n",
       "      <td>24</td>\n",
       "      <td>0</td>\n",
       "      <td>3</td>\n",
       "      <td>60</td>\n",
       "      <td>1</td>\n",
       "      <td>2</td>\n",
       "    </tr>\n",
       "    <tr>\n",
       "      <th>1</th>\n",
       "      <td>7300110000000000130204</td>\n",
       "      <td>2018</td>\n",
       "      <td>3244.940412</td>\n",
       "      <td>34</td>\n",
       "      <td>32</td>\n",
       "      <td>2</td>\n",
       "      <td>0</td>\n",
       "      <td>56</td>\n",
       "      <td>0</td>\n",
       "      <td>28</td>\n",
       "      <td>...</td>\n",
       "      <td>40</td>\n",
       "      <td>44</td>\n",
       "      <td>0</td>\n",
       "      <td>0</td>\n",
       "      <td>40</td>\n",
       "      <td>0</td>\n",
       "      <td>1</td>\n",
       "      <td>43</td>\n",
       "      <td>1</td>\n",
       "      <td>0</td>\n",
       "    </tr>\n",
       "    <tr>\n",
       "      <th>2</th>\n",
       "      <td>7300110000000000130206</td>\n",
       "      <td>2018</td>\n",
       "      <td>2081.423166</td>\n",
       "      <td>24</td>\n",
       "      <td>15</td>\n",
       "      <td>9</td>\n",
       "      <td>0</td>\n",
       "      <td>30</td>\n",
       "      <td>0</td>\n",
       "      <td>15</td>\n",
       "      <td>...</td>\n",
       "      <td>18</td>\n",
       "      <td>20</td>\n",
       "      <td>0</td>\n",
       "      <td>0</td>\n",
       "      <td>18</td>\n",
       "      <td>0</td>\n",
       "      <td>1</td>\n",
       "      <td>19</td>\n",
       "      <td>1</td>\n",
       "      <td>0</td>\n",
       "    </tr>\n",
       "    <tr>\n",
       "      <th>3</th>\n",
       "      <td>7300110000000000130207</td>\n",
       "      <td>2018</td>\n",
       "      <td>5619.115851</td>\n",
       "      <td>65</td>\n",
       "      <td>59</td>\n",
       "      <td>4</td>\n",
       "      <td>2</td>\n",
       "      <td>112</td>\n",
       "      <td>0</td>\n",
       "      <td>54</td>\n",
       "      <td>...</td>\n",
       "      <td>72</td>\n",
       "      <td>105</td>\n",
       "      <td>14</td>\n",
       "      <td>0</td>\n",
       "      <td>84</td>\n",
       "      <td>0</td>\n",
       "      <td>4</td>\n",
       "      <td>89</td>\n",
       "      <td>1</td>\n",
       "      <td>3</td>\n",
       "    </tr>\n",
       "    <tr>\n",
       "      <th>4</th>\n",
       "      <td>7300110000000000130208</td>\n",
       "      <td>2018</td>\n",
       "      <td>4902.728507</td>\n",
       "      <td>56</td>\n",
       "      <td>44</td>\n",
       "      <td>11</td>\n",
       "      <td>1</td>\n",
       "      <td>94</td>\n",
       "      <td>0</td>\n",
       "      <td>47</td>\n",
       "      <td>...</td>\n",
       "      <td>70</td>\n",
       "      <td>83</td>\n",
       "      <td>30</td>\n",
       "      <td>0</td>\n",
       "      <td>44</td>\n",
       "      <td>0</td>\n",
       "      <td>7</td>\n",
       "      <td>102</td>\n",
       "      <td>1</td>\n",
       "      <td>6</td>\n",
       "    </tr>\n",
       "  </tbody>\n",
       "</table>\n",
       "<p>5 rows × 26 columns</p>\n",
       "</div>"
      ],
      "text/plain": [
       "                 COD_DANE  VERSION         AREA  Total_Viviendas  Casa  \\\n",
       "0  7300110000000000000000     2018  5379.862696               30    12   \n",
       "1  7300110000000000130204     2018  3244.940412               34    32   \n",
       "2  7300110000000000130206     2018  2081.423166               24    15   \n",
       "3  7300110000000000130207     2018  5619.115851               65    59   \n",
       "4  7300110000000000130208     2018  4902.728507               56    44   \n",
       "\n",
       "   Apartamento  Tipo_Cuarto  Electrica_SI  Electrica_NO  GasNatural_SI  ...  \\\n",
       "0           18            0            46             0             23  ...   \n",
       "1            2            0            56             0             28  ...   \n",
       "2            9            0            30             0             15  ...   \n",
       "3            4            2           112             0             54  ...   \n",
       "4           11            1            94             0             47  ...   \n",
       "\n",
       "   HOMBRE  MUJER  Preescolar  Primaria  Secundaria  Especializacion  \\\n",
       "0      45     42          18         0          24                0   \n",
       "1      40     44           0         0          40                0   \n",
       "2      18     20           0         0          18                0   \n",
       "3      72    105          14         0          84                0   \n",
       "4      70     83          30         0          44                0   \n",
       "\n",
       "   Ninguna_Educacion  No_responde  Ninguno  Ninguno.1  \n",
       "0                  3           60        1          2  \n",
       "1                  1           43        1          0  \n",
       "2                  1           19        1          0  \n",
       "3                  4           89        1          3  \n",
       "4                  7          102        1          6  \n",
       "\n",
       "[5 rows x 26 columns]"
      ]
     },
     "execution_count": 82,
     "metadata": {},
     "output_type": "execute_result"
    }
   ],
   "source": [
    "data_2018_clean.head()"
   ]
  },
  {
   "cell_type": "code",
   "execution_count": 83,
   "metadata": {},
   "outputs": [
    {
     "data": {
      "text/html": [
       "<div>\n",
       "<style scoped>\n",
       "    .dataframe tbody tr th:only-of-type {\n",
       "        vertical-align: middle;\n",
       "    }\n",
       "\n",
       "    .dataframe tbody tr th {\n",
       "        vertical-align: top;\n",
       "    }\n",
       "\n",
       "    .dataframe thead th {\n",
       "        text-align: right;\n",
       "    }\n",
       "</style>\n",
       "<table border=\"1\" class=\"dataframe\">\n",
       "  <thead>\n",
       "    <tr style=\"text-align: right;\">\n",
       "      <th></th>\n",
       "      <th>COD_DANE</th>\n",
       "      <th>VERSION</th>\n",
       "      <th>AREA</th>\n",
       "      <th>Total_Viviendas</th>\n",
       "      <th>Casa</th>\n",
       "      <th>Apartamento</th>\n",
       "      <th>Tipo_Cuarto</th>\n",
       "      <th>Electrica_SI</th>\n",
       "      <th>Electrica_NO</th>\n",
       "      <th>GasNatural_SI</th>\n",
       "      <th>...</th>\n",
       "      <th>Total_Hogares</th>\n",
       "      <th>Total_Personas</th>\n",
       "      <th>HOMBRE</th>\n",
       "      <th>MUJER</th>\n",
       "      <th>Preescolar</th>\n",
       "      <th>Primaria</th>\n",
       "      <th>Secundaria</th>\n",
       "      <th>Especializacion</th>\n",
       "      <th>Ninguna_Educacion</th>\n",
       "      <th>No_responde</th>\n",
       "    </tr>\n",
       "  </thead>\n",
       "  <tbody>\n",
       "    <tr>\n",
       "      <th>0</th>\n",
       "      <td>7300110000000000120837</td>\n",
       "      <td>2002</td>\n",
       "      <td>NaN</td>\n",
       "      <td>0</td>\n",
       "      <td>0</td>\n",
       "      <td>0</td>\n",
       "      <td>0</td>\n",
       "      <td>0</td>\n",
       "      <td>0</td>\n",
       "      <td>0</td>\n",
       "      <td>...</td>\n",
       "      <td>0</td>\n",
       "      <td>0</td>\n",
       "      <td>0</td>\n",
       "      <td>0</td>\n",
       "      <td>0</td>\n",
       "      <td>0</td>\n",
       "      <td>0</td>\n",
       "      <td>0</td>\n",
       "      <td>0</td>\n",
       "      <td>0</td>\n",
       "    </tr>\n",
       "    <tr>\n",
       "      <th>1</th>\n",
       "      <td>7300110000000000130125</td>\n",
       "      <td>2002</td>\n",
       "      <td>NaN</td>\n",
       "      <td>264</td>\n",
       "      <td>248</td>\n",
       "      <td>16</td>\n",
       "      <td>0</td>\n",
       "      <td>256</td>\n",
       "      <td>0</td>\n",
       "      <td>217</td>\n",
       "      <td>...</td>\n",
       "      <td>260</td>\n",
       "      <td>949</td>\n",
       "      <td>436</td>\n",
       "      <td>513</td>\n",
       "      <td>60</td>\n",
       "      <td>210</td>\n",
       "      <td>188</td>\n",
       "      <td>27</td>\n",
       "      <td>24</td>\n",
       "      <td>440</td>\n",
       "    </tr>\n",
       "    <tr>\n",
       "      <th>2</th>\n",
       "      <td>7300110000000000130132</td>\n",
       "      <td>2002</td>\n",
       "      <td>NaN</td>\n",
       "      <td>53</td>\n",
       "      <td>34</td>\n",
       "      <td>9</td>\n",
       "      <td>10</td>\n",
       "      <td>51</td>\n",
       "      <td>0</td>\n",
       "      <td>37</td>\n",
       "      <td>...</td>\n",
       "      <td>52</td>\n",
       "      <td>207</td>\n",
       "      <td>109</td>\n",
       "      <td>98</td>\n",
       "      <td>7</td>\n",
       "      <td>87</td>\n",
       "      <td>42</td>\n",
       "      <td>0</td>\n",
       "      <td>32</td>\n",
       "      <td>39</td>\n",
       "    </tr>\n",
       "    <tr>\n",
       "      <th>3</th>\n",
       "      <td>7300110000000000130204</td>\n",
       "      <td>2002</td>\n",
       "      <td>NaN</td>\n",
       "      <td>30</td>\n",
       "      <td>30</td>\n",
       "      <td>0</td>\n",
       "      <td>0</td>\n",
       "      <td>30</td>\n",
       "      <td>0</td>\n",
       "      <td>27</td>\n",
       "      <td>...</td>\n",
       "      <td>30</td>\n",
       "      <td>109</td>\n",
       "      <td>49</td>\n",
       "      <td>60</td>\n",
       "      <td>3</td>\n",
       "      <td>12</td>\n",
       "      <td>18</td>\n",
       "      <td>7</td>\n",
       "      <td>2</td>\n",
       "      <td>67</td>\n",
       "    </tr>\n",
       "    <tr>\n",
       "      <th>4</th>\n",
       "      <td>7300110000000000130206</td>\n",
       "      <td>2002</td>\n",
       "      <td>NaN</td>\n",
       "      <td>20</td>\n",
       "      <td>16</td>\n",
       "      <td>4</td>\n",
       "      <td>0</td>\n",
       "      <td>20</td>\n",
       "      <td>0</td>\n",
       "      <td>15</td>\n",
       "      <td>...</td>\n",
       "      <td>20</td>\n",
       "      <td>72</td>\n",
       "      <td>35</td>\n",
       "      <td>37</td>\n",
       "      <td>2</td>\n",
       "      <td>10</td>\n",
       "      <td>15</td>\n",
       "      <td>5</td>\n",
       "      <td>2</td>\n",
       "      <td>38</td>\n",
       "    </tr>\n",
       "  </tbody>\n",
       "</table>\n",
       "<p>5 rows × 25 columns</p>\n",
       "</div>"
      ],
      "text/plain": [
       "                 COD_DANE  VERSION  AREA  Total_Viviendas  Casa  Apartamento  \\\n",
       "0  7300110000000000120837     2002   NaN                0     0            0   \n",
       "1  7300110000000000130125     2002   NaN              264   248           16   \n",
       "2  7300110000000000130132     2002   NaN               53    34            9   \n",
       "3  7300110000000000130204     2002   NaN               30    30            0   \n",
       "4  7300110000000000130206     2002   NaN               20    16            4   \n",
       "\n",
       "   Tipo_Cuarto  Electrica_SI  Electrica_NO  GasNatural_SI  ...  Total_Hogares  \\\n",
       "0            0             0             0              0  ...              0   \n",
       "1            0           256             0            217  ...            260   \n",
       "2           10            51             0             37  ...             52   \n",
       "3            0            30             0             27  ...             30   \n",
       "4            0            20             0             15  ...             20   \n",
       "\n",
       "   Total_Personas  HOMBRE  MUJER  Preescolar  Primaria  Secundaria  \\\n",
       "0               0       0      0           0         0           0   \n",
       "1             949     436    513          60       210         188   \n",
       "2             207     109     98           7        87          42   \n",
       "3             109      49     60           3        12          18   \n",
       "4              72      35     37           2        10          15   \n",
       "\n",
       "   Especializacion  Ninguna_Educacion  No_responde  \n",
       "0                0                  0            0  \n",
       "1               27                 24          440  \n",
       "2                0                 32           39  \n",
       "3                7                  2           67  \n",
       "4                5                  2           38  \n",
       "\n",
       "[5 rows x 25 columns]"
      ]
     },
     "execution_count": 83,
     "metadata": {},
     "output_type": "execute_result"
    }
   ],
   "source": [
    "data_2002_clean.head()"
   ]
  },
  {
   "cell_type": "markdown",
   "metadata": {},
   "source": [
    "Asumiendo que no hay manera de conocer la educación de las personas que no respondieron asumiremos que están educadas. Por ello las columnas que nos interesan para responder a esta pregunta son <code> Ninguna_Educacion </code> y <code>Total_Personas</code>."
   ]
  },
  {
   "cell_type": "code",
   "execution_count": 84,
   "metadata": {},
   "outputs": [
    {
     "data": {
      "text/plain": [
       "67058"
      ]
     },
     "execution_count": 84,
     "metadata": {},
     "output_type": "execute_result"
    }
   ],
   "source": [
    "Total_Personas_2002 = data_2002_clean.Total_Personas.sum()\n",
    "Total_Personas_2002"
   ]
  },
  {
   "cell_type": "code",
   "execution_count": 85,
   "metadata": {},
   "outputs": [
    {
     "data": {
      "text/plain": [
       "58570"
      ]
     },
     "execution_count": 85,
     "metadata": {},
     "output_type": "execute_result"
    }
   ],
   "source": [
    "Total_Personas_2018 = data_2018_clean.Total_Personas.sum()\n",
    "Total_Personas_2018"
   ]
  },
  {
   "cell_type": "markdown",
   "metadata": {},
   "source": [
    "Despueés procederemos a calcular la tasa de crecimiento de la populación entre estos años: $$\\frac{58570-59847}{2018-2002}=-79,81\\> \\mathrm{hombres\\> por \\> año}$$ De esa manera podemos obtener una ecuación lineal que nos permitirá saber la población de hombres que habrá para el año x. $$y=-79,81\\times (X-2002)+59847$$ donde X es el año de interés e y la populación que habrá en ese año."
   ]
  },
  {
   "cell_type": "markdown",
   "metadata": {},
   "source": [
    "Lo primero será calcular la pendiente de evolución de la escolarización. Para ello calcularemos el ratio de escolarización por populación para los dos años disponibles y calcularemos la pendiente."
   ]
  },
  {
   "cell_type": "code",
   "execution_count": 86,
   "metadata": {},
   "outputs": [
    {
     "data": {
      "text/plain": [
       "-0.0016470162917279802"
      ]
     },
     "execution_count": 86,
     "metadata": {},
     "output_type": "execute_result"
    }
   ],
   "source": [
    "evolucion_de_escolarizados = ((data_2018_clean.Ninguna_Educacion.sum()/data_2018_clean.Total_Personas.sum())-(data_2002_clean.Ninguna_Educacion.sum()/data_2002_clean.Total_Personas.sum()))/(2018-2002)\n",
    "evolucion_de_escolarizados"
   ]
  },
  {
   "cell_type": "code",
   "execution_count": 87,
   "metadata": {},
   "outputs": [
    {
     "data": {
      "text/plain": [
       "0.06073846520922187"
      ]
     },
     "execution_count": 87,
     "metadata": {},
     "output_type": "execute_result"
    }
   ],
   "source": [
    "data_2002_clean.Ninguna_Educacion.sum()/data_2002_clean.Total_Personas.sum()"
   ]
  },
  {
   "cell_type": "markdown",
   "metadata": {},
   "source": [
    "Una vez encontrada la pendiente $m=-0.0017$ calcularemos el valor de x ya que buscamos el año en el que toda la populación estará escolarizada; o lo que es lo mismo, que el valor y sea 0. $$x = 2002 -\\frac{n}{m}$$ donde n es la la cantidad de no escolarizados por populación en 2002; esto es, $n = 0.0617$.\n",
    "\n",
    "Intercambiando las variables por sus respectivos valores obtenemos que para que tengamos toda la población escolarizada tendremos que esperar hasta **el año 2038**."
   ]
  },
  {
   "cell_type": "markdown",
   "metadata": {},
   "source": [
    "## Pregunta 5"
   ]
  },
  {
   "cell_type": "code",
   "execution_count": 88,
   "metadata": {},
   "outputs": [],
   "source": [
    "COD_DANE_2018 = data_2018_clean.COD_DANE.tolist()\n",
    "data_2002_clean.AREA = [data_2018_clean.loc[data_2018_clean.COD_DANE == cod_dane, 'AREA'].iloc[0] if cod_dane in COD_DANE_2018 else 0 for cod_dane in data_2002_clean.COD_DANE]"
   ]
  },
  {
   "cell_type": "code",
   "execution_count": 89,
   "metadata": {},
   "outputs": [
    {
     "data": {
      "text/html": [
       "<div>\n",
       "<style scoped>\n",
       "    .dataframe tbody tr th:only-of-type {\n",
       "        vertical-align: middle;\n",
       "    }\n",
       "\n",
       "    .dataframe tbody tr th {\n",
       "        vertical-align: top;\n",
       "    }\n",
       "\n",
       "    .dataframe thead th {\n",
       "        text-align: right;\n",
       "    }\n",
       "</style>\n",
       "<table border=\"1\" class=\"dataframe\">\n",
       "  <thead>\n",
       "    <tr style=\"text-align: right;\">\n",
       "      <th></th>\n",
       "      <th>COD_DANE</th>\n",
       "      <th>VERSION</th>\n",
       "      <th>AREA</th>\n",
       "      <th>Total_Viviendas</th>\n",
       "      <th>Casa</th>\n",
       "      <th>Apartamento</th>\n",
       "      <th>Tipo_Cuarto</th>\n",
       "      <th>Electrica_SI</th>\n",
       "      <th>Electrica_NO</th>\n",
       "      <th>GasNatural_SI</th>\n",
       "      <th>...</th>\n",
       "      <th>Total_Hogares</th>\n",
       "      <th>Total_Personas</th>\n",
       "      <th>HOMBRE</th>\n",
       "      <th>MUJER</th>\n",
       "      <th>Preescolar</th>\n",
       "      <th>Primaria</th>\n",
       "      <th>Secundaria</th>\n",
       "      <th>Especializacion</th>\n",
       "      <th>Ninguna_Educacion</th>\n",
       "      <th>No_responde</th>\n",
       "    </tr>\n",
       "  </thead>\n",
       "  <tbody>\n",
       "    <tr>\n",
       "      <th>0</th>\n",
       "      <td>7300110000000000120837</td>\n",
       "      <td>2002</td>\n",
       "      <td>0.000000</td>\n",
       "      <td>0</td>\n",
       "      <td>0</td>\n",
       "      <td>0</td>\n",
       "      <td>0</td>\n",
       "      <td>0</td>\n",
       "      <td>0</td>\n",
       "      <td>0</td>\n",
       "      <td>...</td>\n",
       "      <td>0</td>\n",
       "      <td>0</td>\n",
       "      <td>0</td>\n",
       "      <td>0</td>\n",
       "      <td>0</td>\n",
       "      <td>0</td>\n",
       "      <td>0</td>\n",
       "      <td>0</td>\n",
       "      <td>0</td>\n",
       "      <td>0</td>\n",
       "    </tr>\n",
       "    <tr>\n",
       "      <th>1</th>\n",
       "      <td>7300110000000000130125</td>\n",
       "      <td>2002</td>\n",
       "      <td>0.000000</td>\n",
       "      <td>264</td>\n",
       "      <td>248</td>\n",
       "      <td>16</td>\n",
       "      <td>0</td>\n",
       "      <td>256</td>\n",
       "      <td>0</td>\n",
       "      <td>217</td>\n",
       "      <td>...</td>\n",
       "      <td>260</td>\n",
       "      <td>949</td>\n",
       "      <td>436</td>\n",
       "      <td>513</td>\n",
       "      <td>60</td>\n",
       "      <td>210</td>\n",
       "      <td>188</td>\n",
       "      <td>27</td>\n",
       "      <td>24</td>\n",
       "      <td>440</td>\n",
       "    </tr>\n",
       "    <tr>\n",
       "      <th>2</th>\n",
       "      <td>7300110000000000130132</td>\n",
       "      <td>2002</td>\n",
       "      <td>0.000000</td>\n",
       "      <td>53</td>\n",
       "      <td>34</td>\n",
       "      <td>9</td>\n",
       "      <td>10</td>\n",
       "      <td>51</td>\n",
       "      <td>0</td>\n",
       "      <td>37</td>\n",
       "      <td>...</td>\n",
       "      <td>52</td>\n",
       "      <td>207</td>\n",
       "      <td>109</td>\n",
       "      <td>98</td>\n",
       "      <td>7</td>\n",
       "      <td>87</td>\n",
       "      <td>42</td>\n",
       "      <td>0</td>\n",
       "      <td>32</td>\n",
       "      <td>39</td>\n",
       "    </tr>\n",
       "    <tr>\n",
       "      <th>3</th>\n",
       "      <td>7300110000000000130204</td>\n",
       "      <td>2002</td>\n",
       "      <td>3244.940412</td>\n",
       "      <td>30</td>\n",
       "      <td>30</td>\n",
       "      <td>0</td>\n",
       "      <td>0</td>\n",
       "      <td>30</td>\n",
       "      <td>0</td>\n",
       "      <td>27</td>\n",
       "      <td>...</td>\n",
       "      <td>30</td>\n",
       "      <td>109</td>\n",
       "      <td>49</td>\n",
       "      <td>60</td>\n",
       "      <td>3</td>\n",
       "      <td>12</td>\n",
       "      <td>18</td>\n",
       "      <td>7</td>\n",
       "      <td>2</td>\n",
       "      <td>67</td>\n",
       "    </tr>\n",
       "    <tr>\n",
       "      <th>4</th>\n",
       "      <td>7300110000000000130206</td>\n",
       "      <td>2002</td>\n",
       "      <td>2081.423166</td>\n",
       "      <td>20</td>\n",
       "      <td>16</td>\n",
       "      <td>4</td>\n",
       "      <td>0</td>\n",
       "      <td>20</td>\n",
       "      <td>0</td>\n",
       "      <td>15</td>\n",
       "      <td>...</td>\n",
       "      <td>20</td>\n",
       "      <td>72</td>\n",
       "      <td>35</td>\n",
       "      <td>37</td>\n",
       "      <td>2</td>\n",
       "      <td>10</td>\n",
       "      <td>15</td>\n",
       "      <td>5</td>\n",
       "      <td>2</td>\n",
       "      <td>38</td>\n",
       "    </tr>\n",
       "  </tbody>\n",
       "</table>\n",
       "<p>5 rows × 25 columns</p>\n",
       "</div>"
      ],
      "text/plain": [
       "                 COD_DANE  VERSION         AREA  Total_Viviendas  Casa  \\\n",
       "0  7300110000000000120837     2002     0.000000                0     0   \n",
       "1  7300110000000000130125     2002     0.000000              264   248   \n",
       "2  7300110000000000130132     2002     0.000000               53    34   \n",
       "3  7300110000000000130204     2002  3244.940412               30    30   \n",
       "4  7300110000000000130206     2002  2081.423166               20    16   \n",
       "\n",
       "   Apartamento  Tipo_Cuarto  Electrica_SI  Electrica_NO  GasNatural_SI  ...  \\\n",
       "0            0            0             0             0              0  ...   \n",
       "1           16            0           256             0            217  ...   \n",
       "2            9           10            51             0             37  ...   \n",
       "3            0            0            30             0             27  ...   \n",
       "4            4            0            20             0             15  ...   \n",
       "\n",
       "   Total_Hogares  Total_Personas  HOMBRE  MUJER  Preescolar  Primaria  \\\n",
       "0              0               0       0      0           0         0   \n",
       "1            260             949     436    513          60       210   \n",
       "2             52             207     109     98           7        87   \n",
       "3             30             109      49     60           3        12   \n",
       "4             20              72      35     37           2        10   \n",
       "\n",
       "   Secundaria  Especializacion  Ninguna_Educacion  No_responde  \n",
       "0           0                0                  0            0  \n",
       "1         188               27                 24          440  \n",
       "2          42                0                 32           39  \n",
       "3          18                7                  2           67  \n",
       "4          15                5                  2           38  \n",
       "\n",
       "[5 rows x 25 columns]"
      ]
     },
     "execution_count": 89,
     "metadata": {},
     "output_type": "execute_result"
    }
   ],
   "source": [
    "data_2002_clean.head()"
   ]
  },
  {
   "cell_type": "markdown",
   "metadata": {},
   "source": [
    "Se ha añadido una columna de Área para el dataset de 2002. Para aquellas manzanas existentes en 2002. Sin embargo, aquellas manzanas que había en 2002 pero que han desaparecido para 2018 hay que eliminarlas ya que no existen hoy en día."
   ]
  },
  {
   "cell_type": "code",
   "execution_count": 90,
   "metadata": {},
   "outputs": [],
   "source": [
    "data_2002_clean = data_2002_clean.loc[(data_2002_clean.AREA != 0)].reset_index(drop=True)"
   ]
  },
  {
   "cell_type": "code",
   "execution_count": 91,
   "metadata": {},
   "outputs": [
    {
     "data": {
      "text/html": [
       "<div>\n",
       "<style scoped>\n",
       "    .dataframe tbody tr th:only-of-type {\n",
       "        vertical-align: middle;\n",
       "    }\n",
       "\n",
       "    .dataframe tbody tr th {\n",
       "        vertical-align: top;\n",
       "    }\n",
       "\n",
       "    .dataframe thead th {\n",
       "        text-align: right;\n",
       "    }\n",
       "</style>\n",
       "<table border=\"1\" class=\"dataframe\">\n",
       "  <thead>\n",
       "    <tr style=\"text-align: right;\">\n",
       "      <th></th>\n",
       "      <th>COD_DANE</th>\n",
       "      <th>VERSION</th>\n",
       "      <th>AREA</th>\n",
       "      <th>Total_Viviendas</th>\n",
       "      <th>Casa</th>\n",
       "      <th>Apartamento</th>\n",
       "      <th>Tipo_Cuarto</th>\n",
       "      <th>Electrica_SI</th>\n",
       "      <th>Electrica_NO</th>\n",
       "      <th>GasNatural_SI</th>\n",
       "      <th>...</th>\n",
       "      <th>Total_Hogares</th>\n",
       "      <th>Total_Personas</th>\n",
       "      <th>HOMBRE</th>\n",
       "      <th>MUJER</th>\n",
       "      <th>Preescolar</th>\n",
       "      <th>Primaria</th>\n",
       "      <th>Secundaria</th>\n",
       "      <th>Especializacion</th>\n",
       "      <th>Ninguna_Educacion</th>\n",
       "      <th>No_responde</th>\n",
       "    </tr>\n",
       "  </thead>\n",
       "  <tbody>\n",
       "    <tr>\n",
       "      <th>0</th>\n",
       "      <td>7300110000000000130204</td>\n",
       "      <td>2002</td>\n",
       "      <td>3244.940412</td>\n",
       "      <td>30</td>\n",
       "      <td>30</td>\n",
       "      <td>0</td>\n",
       "      <td>0</td>\n",
       "      <td>30</td>\n",
       "      <td>0</td>\n",
       "      <td>27</td>\n",
       "      <td>...</td>\n",
       "      <td>30</td>\n",
       "      <td>109</td>\n",
       "      <td>49</td>\n",
       "      <td>60</td>\n",
       "      <td>3</td>\n",
       "      <td>12</td>\n",
       "      <td>18</td>\n",
       "      <td>7</td>\n",
       "      <td>2</td>\n",
       "      <td>67</td>\n",
       "    </tr>\n",
       "    <tr>\n",
       "      <th>1</th>\n",
       "      <td>7300110000000000130206</td>\n",
       "      <td>2002</td>\n",
       "      <td>2081.423166</td>\n",
       "      <td>20</td>\n",
       "      <td>16</td>\n",
       "      <td>4</td>\n",
       "      <td>0</td>\n",
       "      <td>20</td>\n",
       "      <td>0</td>\n",
       "      <td>15</td>\n",
       "      <td>...</td>\n",
       "      <td>20</td>\n",
       "      <td>72</td>\n",
       "      <td>35</td>\n",
       "      <td>37</td>\n",
       "      <td>2</td>\n",
       "      <td>10</td>\n",
       "      <td>15</td>\n",
       "      <td>5</td>\n",
       "      <td>2</td>\n",
       "      <td>38</td>\n",
       "    </tr>\n",
       "    <tr>\n",
       "      <th>2</th>\n",
       "      <td>7300110000000000130207</td>\n",
       "      <td>2002</td>\n",
       "      <td>5619.115851</td>\n",
       "      <td>58</td>\n",
       "      <td>57</td>\n",
       "      <td>1</td>\n",
       "      <td>0</td>\n",
       "      <td>58</td>\n",
       "      <td>0</td>\n",
       "      <td>45</td>\n",
       "      <td>...</td>\n",
       "      <td>58</td>\n",
       "      <td>220</td>\n",
       "      <td>107</td>\n",
       "      <td>113</td>\n",
       "      <td>7</td>\n",
       "      <td>30</td>\n",
       "      <td>36</td>\n",
       "      <td>21</td>\n",
       "      <td>0</td>\n",
       "      <td>126</td>\n",
       "    </tr>\n",
       "    <tr>\n",
       "      <th>3</th>\n",
       "      <td>7300110000000000130208</td>\n",
       "      <td>2002</td>\n",
       "      <td>4902.728507</td>\n",
       "      <td>54</td>\n",
       "      <td>44</td>\n",
       "      <td>10</td>\n",
       "      <td>0</td>\n",
       "      <td>54</td>\n",
       "      <td>0</td>\n",
       "      <td>44</td>\n",
       "      <td>...</td>\n",
       "      <td>54</td>\n",
       "      <td>198</td>\n",
       "      <td>88</td>\n",
       "      <td>110</td>\n",
       "      <td>5</td>\n",
       "      <td>25</td>\n",
       "      <td>41</td>\n",
       "      <td>12</td>\n",
       "      <td>0</td>\n",
       "      <td>115</td>\n",
       "    </tr>\n",
       "    <tr>\n",
       "      <th>4</th>\n",
       "      <td>7300110000000000130215</td>\n",
       "      <td>2002</td>\n",
       "      <td>1330.499927</td>\n",
       "      <td>16</td>\n",
       "      <td>15</td>\n",
       "      <td>1</td>\n",
       "      <td>0</td>\n",
       "      <td>15</td>\n",
       "      <td>0</td>\n",
       "      <td>14</td>\n",
       "      <td>...</td>\n",
       "      <td>15</td>\n",
       "      <td>54</td>\n",
       "      <td>26</td>\n",
       "      <td>28</td>\n",
       "      <td>0</td>\n",
       "      <td>11</td>\n",
       "      <td>13</td>\n",
       "      <td>0</td>\n",
       "      <td>1</td>\n",
       "      <td>29</td>\n",
       "    </tr>\n",
       "  </tbody>\n",
       "</table>\n",
       "<p>5 rows × 25 columns</p>\n",
       "</div>"
      ],
      "text/plain": [
       "                 COD_DANE  VERSION         AREA  Total_Viviendas  Casa  \\\n",
       "0  7300110000000000130204     2002  3244.940412               30    30   \n",
       "1  7300110000000000130206     2002  2081.423166               20    16   \n",
       "2  7300110000000000130207     2002  5619.115851               58    57   \n",
       "3  7300110000000000130208     2002  4902.728507               54    44   \n",
       "4  7300110000000000130215     2002  1330.499927               16    15   \n",
       "\n",
       "   Apartamento  Tipo_Cuarto  Electrica_SI  Electrica_NO  GasNatural_SI  ...  \\\n",
       "0            0            0            30             0             27  ...   \n",
       "1            4            0            20             0             15  ...   \n",
       "2            1            0            58             0             45  ...   \n",
       "3           10            0            54             0             44  ...   \n",
       "4            1            0            15             0             14  ...   \n",
       "\n",
       "   Total_Hogares  Total_Personas  HOMBRE  MUJER  Preescolar  Primaria  \\\n",
       "0             30             109      49     60           3        12   \n",
       "1             20              72      35     37           2        10   \n",
       "2             58             220     107    113           7        30   \n",
       "3             54             198      88    110           5        25   \n",
       "4             15              54      26     28           0        11   \n",
       "\n",
       "   Secundaria  Especializacion  Ninguna_Educacion  No_responde  \n",
       "0          18                7                  2           67  \n",
       "1          15                5                  2           38  \n",
       "2          36               21                  0          126  \n",
       "3          41               12                  0          115  \n",
       "4          13                0                  1           29  \n",
       "\n",
       "[5 rows x 25 columns]"
      ]
     },
     "execution_count": 91,
     "metadata": {},
     "output_type": "execute_result"
    }
   ],
   "source": [
    "data_2002_clean.head()"
   ]
  },
  {
   "cell_type": "markdown",
   "metadata": {},
   "source": [
    "Se borrarán también las columnas innecesarias como <code>['Ninguno','Ninguno.1']</code>."
   ]
  },
  {
   "cell_type": "code",
   "execution_count": 92,
   "metadata": {},
   "outputs": [],
   "source": [
    "data_2018_clean.drop(['Ninguno','Ninguno.1'], axis=1, inplace=True)"
   ]
  },
  {
   "cell_type": "code",
   "execution_count": 93,
   "metadata": {},
   "outputs": [
    {
     "name": "stdout",
     "output_type": "stream",
     "text": [
      "Index(['COD_DANE', 'VERSION', 'AREA', 'Total_Viviendas', 'Casa', 'Apartamento',\n",
      "       'Tipo_Cuarto', 'Electrica_SI', 'Electrica_NO', 'GasNatural_SI',\n",
      "       'GasNatural_NO', 'Alcantarillado_SI', 'Alcantarillado_NO',\n",
      "       'Acueducto_SI', 'Acueducto_NO', 'Total_Hogares', 'Total_Personas',\n",
      "       'HOMBRE', 'MUJER', 'Preescolar', 'Primaria', 'Secundaria',\n",
      "       'Especializacion', 'Ninguna_Educacion', 'No_responde'],\n",
      "      dtype='object')\n"
     ]
    }
   ],
   "source": [
    "columns = data_2002_clean.columns\n",
    "print(columns)"
   ]
  },
  {
   "cell_type": "code",
   "execution_count": null,
   "metadata": {},
   "outputs": [],
   "source": []
  },
  {
   "cell_type": "code",
   "execution_count": 160,
   "metadata": {},
   "outputs": [],
   "source": [
    "X_train = np.reshape(data_2002_clean['COD_DANE'].values,(-1,1))\n",
    "\n",
    "y_train = np.ravel(data_2002_clean['Total_Personas'])\n",
    "\n",
    "X_test = np.reshape(data_2018_clean['COD_DANE'].values, (-1,1))\n",
    "\n",
    "y_test = np.ravel(data_2018_clean['Total_Personas'])"
   ]
  },
  {
   "cell_type": "code",
   "execution_count": 125,
   "metadata": {},
   "outputs": [
    {
     "data": {
      "text/plain": [
       "array(['7300110000000000130204', '7300110000000000130206',\n",
       "       '7300110000000000130207', '7300110000000000130208',\n",
       "       '7300110000000000130215', '7300110000000000130219',\n",
       "       '7300110000000000130221', '7300110000000000130222',\n",
       "       '7300110000000000130223', '7300110000000000130224',\n",
       "       '7300110000000000130225', '7300110000000000130226',\n",
       "       '7300110000000000130227', '7300110000000000130302',\n",
       "       '7300110000000000130303', '7300110000000000130307',\n",
       "       '7300110000000000130308', '7300110000000000130309',\n",
       "       '7300110000000000130310', '7300110000000000130311',\n",
       "       '7300110000000000130312', '7300110000000000130313',\n",
       "       '7300110000000000130329', '7300110000000000140101',\n",
       "       '7300110000000000140105', '7300110000000000140106',\n",
       "       '7300110000000000140110', '7300110000000000140111',\n",
       "       '7300110000000000140113', '7300110000000000140114',\n",
       "       '7300110000000000140118', '7300110000000000140119',\n",
       "       '7300110000000000140301', '7300110000000000140302',\n",
       "       '7300110000000000140303', '7300110000000000140304',\n",
       "       '7300110000000000140306', '7300110000000000140307',\n",
       "       '7300110000000000140308', '7300110000000000140309',\n",
       "       '7300110000000000140319', '7300110000000000140320',\n",
       "       '7300110000000000140409', '7300110000000000140410',\n",
       "       '7300110000000000140411', '7300110000000000140412',\n",
       "       '7300110000000000140414', '7300110000000000140424',\n",
       "       '7300110000000000140428', '7300110000000000140429',\n",
       "       '7300110000000000140916', '7300110000000000320503',\n",
       "       '7300110000000000320504', '7300110000000000320505',\n",
       "       '7300110000000000320506', '7300110000000000320507',\n",
       "       '7300110000000000320508', '7300110000000000320513',\n",
       "       '7300110000000000320514', '7300110000000000320610',\n",
       "       '7300110000000000320611', '7300110000000000320612',\n",
       "       '7300110000000000320614', '7300110000000000320701',\n",
       "       '7300110000000000320702', '7300110000000000320703',\n",
       "       '7300110000000000320704', '7300110000000000320705',\n",
       "       '7300110000000000320707', '7300110000000000320708',\n",
       "       '7300110000000000320709', '7300110000000000320710',\n",
       "       '7300110000000000320711', '7300110000000000320712',\n",
       "       '7300110000000000320714', '7300110000000000320715',\n",
       "       '7300110000000000330101', '7300110000000000330102',\n",
       "       '7300110000000000330103', '7300110000000000330104',\n",
       "       '7300110000000000330105', '7300110000000000330106',\n",
       "       '7300110000000000330107', '7300110000000000330109',\n",
       "       '7300110000000000330111', '7300110000000000330114',\n",
       "       '7300110000000000330115', '7300110000000000330116',\n",
       "       '7300110000000000330117', '7300110000000000330118',\n",
       "       '7300110000000000330119', '7300110000000000330120',\n",
       "       '7300110000000000330121', '7300110000000000330122',\n",
       "       '7300110000000000330123', '7300110000000000330124',\n",
       "       '7300110000000000330205', '7300110000000000330209',\n",
       "       '7300110000000000330210', '7300110000000000330212',\n",
       "       '7300110000000000330217', '7300110000000000330218',\n",
       "       '7300110000000000330219', '7300110000000000330220',\n",
       "       '7300110000000000330221', '7300110000000000330222',\n",
       "       '7300110000000000330228', '7300110000000000330229',\n",
       "       '7300110000000000330241', '7300110000000000330242',\n",
       "       '7300110000000000330243', '7300110000000000330244',\n",
       "       '7300110000000000330245', '7300110000000000330246',\n",
       "       '7300110000000000330247', '7300110000000000330248',\n",
       "       '7300110000000000330249', '7300110000000000330250',\n",
       "       '7300110000000000330251', '7300110000000000330301',\n",
       "       '7300110000000000330302', '7300110000000000330305',\n",
       "       '7300110000000000330307', '7300110000000000330308',\n",
       "       '7300110000000000330312', '7300110000000000330314',\n",
       "       '7300110000000000330315', '7300110000000000330317',\n",
       "       '7300110000000000330318', '7300110000000000330326',\n",
       "       '7300110000000000330327', '7300110000000000330328',\n",
       "       '7300110000000000330329', '7300110000000000330330',\n",
       "       '7300110000000000330331', '7300110000000000330332',\n",
       "       '7300110000000000330333', '7300110000000000330334',\n",
       "       '7300110000000000330335', '7300110000000000330339',\n",
       "       '7300110000000000330340', '7300110000000000330341',\n",
       "       '7300110000000000330401', '7300110000000000330402',\n",
       "       '7300110000000000330405', '7300110000000000330406',\n",
       "       '7300110000000000330407', '7300110000000000330408',\n",
       "       '7300110000000000330409', '7300110000000000330410',\n",
       "       '7300110000000000330411', '7300110000000000330414',\n",
       "       '7300110000000000330415', '7300110000000000330423',\n",
       "       '7300110000000000330424', '7300110000000000330425',\n",
       "       '7300110000000000330426', '7300110000000000330501',\n",
       "       '7300110000000000330507', '7300110000000000330508',\n",
       "       '7300110000000000330509', '7300110000000000330510',\n",
       "       '7300110000000000330511', '7300110000000000330512',\n",
       "       '7300110000000000330513', '7300110000000000330514',\n",
       "       '7300110000000000330515', '7300110000000000330516',\n",
       "       '7300110000000000330517', '7300110000000000330528',\n",
       "       '7300110000000000330802', '7300110000000000330803',\n",
       "       '7300110000000000330804', '7300110000000000330805',\n",
       "       '7300110000000000330806', '7300110000000000330807',\n",
       "       '7300110000000000330808', '7300110000000000330809',\n",
       "       '7300110000000000330813', '7300110000000000330814',\n",
       "       '7300110000000000330815', '7300110000000000330816',\n",
       "       '7300110000000000330817', '7300110000000000330818',\n",
       "       '7300110000000000330819', '7300110000000000330820',\n",
       "       '7300110000000000330821', '7300110000000000330822',\n",
       "       '7300110000000000330823', '7300110000000000330910',\n",
       "       '7300110000000000330911', '7300110000000000330913',\n",
       "       '7300110000000000330914', '7300110000000000330915',\n",
       "       '7300110000000000330916', '7300110000000000330918',\n",
       "       '7300110000000000330922', '7300110000000000330923',\n",
       "       '7300110000000000330924', '7300110000000000330925',\n",
       "       '7300110000000000330926', '7300110000000000330935',\n",
       "       '7300110000000000330936', '7300110000000000330937',\n",
       "       '7300110000000000330939', '7300110000000000331101',\n",
       "       '7300110000000000331102', '7300110000000000331103',\n",
       "       '7300110000000000331104', '7300110000000000331105',\n",
       "       '7300110000000000331106', '7300110000000000331107',\n",
       "       '7300110000000000331108', '7300110000000000331109',\n",
       "       '7300110000000000331110', '7300110000000000331111',\n",
       "       '7300110000000000331112', '7300110000000000331113',\n",
       "       '7300110000000000331114', '7300110000000000331115',\n",
       "       '7300110000000000331120', '7300110000000000331121',\n",
       "       '7300110000000000331122', '7300110000000000331124',\n",
       "       '7300110000000000331125', '7300110000000000331126',\n",
       "       '7300110000000000331129', '7300110000000000331132',\n",
       "       '7300110000000000340207', '7300110000000000530419',\n",
       "       '7300110000000000530430', '7300110000000000560103',\n",
       "       '7300110000000000560104', '7300110000000000560105',\n",
       "       '7300110000000000560106', '7300110000000000560107',\n",
       "       '7300110000000000560109', '7300110000000000560110',\n",
       "       '7300110000000000560112', '7300110000000000560117',\n",
       "       '7300110000000000560122', '7300110000000000560128',\n",
       "       '7300110000000000560129', '7300110000000000560130',\n",
       "       '7300110000000000560131', '7300110000000000560134',\n",
       "       '7300110000000000560135', '7300110000000000560136',\n",
       "       '7300110000000000560137', '7300110000000000560138',\n",
       "       '7300110000000000560139', '7300110000000000560701',\n",
       "       '7300110000000000560703', '7300110000000000560704',\n",
       "       '7300110000000000560705', '7300110000000000560706',\n",
       "       '7300110000000000560709', '7300110000000000560710',\n",
       "       '7300110000000000560711', '7300110000000000560712',\n",
       "       '7300110000000000560713', '7300110000000000560714',\n",
       "       '7300110000000000560717', '7300110000000000560718',\n",
       "       '7300110000000000560719', '7300110000000000560802',\n",
       "       '7300110000000000560803', '7300110000000000560805',\n",
       "       '7300110000000000560807', '7300110000000000560808',\n",
       "       '7300110000000000560809', '7300110000000000560811',\n",
       "       '7300110000000000560812', '7300110000000000560813',\n",
       "       '7300110000000000560814', '7300110000000000560816',\n",
       "       '7300110000000000560817', '7300110000000000560819',\n",
       "       '7300110000000000560820', '7300110000000000560821',\n",
       "       '7300110000000000560822', '7300110000000000560823',\n",
       "       '7300110000000000560824', '7300110000000000560825',\n",
       "       '7300110000000000580102', '7300110000000000580103',\n",
       "       '7300110000000000580104', '7300110000000000580105',\n",
       "       '7300110000000000580106', '7300110000000000580107',\n",
       "       '7300110000000000580108', '7300110000000000580109',\n",
       "       '7300110000000000580110', '7300110000000000580111',\n",
       "       '7300110000000000580112', '7300110000000000580113',\n",
       "       '7300110000000000580130', '7300110000000000580219',\n",
       "       '7300110000000000580301', '7300110000000000580302',\n",
       "       '7300110000000000580303', '7300110000000000580304',\n",
       "       '7300110000000000580305', '7300110000000000580306',\n",
       "       '7300110000000000580307', '7300110000000000580308',\n",
       "       '7300110000000000580309', '7300110000000000580310',\n",
       "       '7300110000000000580311', '7300110000000000580312',\n",
       "       '7300110000000000580313', '7300110000000000580314',\n",
       "       '7300110000000000580315', '7300110000000000580325',\n",
       "       '7300110000000000580329', '7300110000000000580401',\n",
       "       '7300110000000000580402', '7300110000000000580403',\n",
       "       '7300110000000000580404', '7300110000000000580405',\n",
       "       '7300110000000000580406', '7300110000000000580407',\n",
       "       '7300110000000000580408', '7300110000000000580409',\n",
       "       '7300110000000000580410', '7300110000000000580411',\n",
       "       '7300110000000000580412', '7300110000000000580501',\n",
       "       '7300110000000000580502', '7300110000000000580503',\n",
       "       '7300110000000000580504', '7300110000000000580505',\n",
       "       '7300110000000000580506', '7300110000000000580507',\n",
       "       '7300110000000000580523', '7300110000000000590101',\n",
       "       '7300110000000000590102', '7300110000000000590103',\n",
       "       '7300110000000000590104', '7300110000000000590105',\n",
       "       '7300110000000000590106', '7300110000000000590107',\n",
       "       '7300110000000000590110', '7300110000000000590111',\n",
       "       '7300110000000000590112', '7300110000000000590114',\n",
       "       '7300110000000000590117', '7300110000000000590118',\n",
       "       '7300110000000000590119', '7300110000000000590120',\n",
       "       '7300110000000000590121', '7300110000000000590122',\n",
       "       '7300110000000000590123', '7300110000000000590124',\n",
       "       '7300110000000000590125', '7300110000000000590126',\n",
       "       '7300110000000000590128', '7300110000000000590201',\n",
       "       '7300110000000000590202', '7300110000000000590203',\n",
       "       '7300110000000000590204', '7300110000000000590205',\n",
       "       '7300110000000000590206', '7300110000000000590207',\n",
       "       '7300110000000000590208', '7300110000000000590209',\n",
       "       '7300110000000000590210', '7300110000000000590211',\n",
       "       '7300110000000000590212', '7300110000000000590213',\n",
       "       '7300110000000000590214', '7300110000000000590215',\n",
       "       '7300110000000000590216', '7300110000000000590217',\n",
       "       '7300110000000000590218', '7300110000000000590219',\n",
       "       '7300110000000000590220', '7300110000000000590221',\n",
       "       '7300110000000000590222', '7300110000000000590223',\n",
       "       '7300110000000000590224', '7300110000000000590301',\n",
       "       '7300110000000000590302', '7300110000000000590303',\n",
       "       '7300110000000000590304', '7300110000000000590305',\n",
       "       '7300110000000000590306', '7300110000000000590307',\n",
       "       '7300110000000000590308', '7300110000000000590310',\n",
       "       '7300110000000000590311', '7300110000000000590312',\n",
       "       '7300110000000000590313', '7300110000000000590314',\n",
       "       '7300110000000000590315', '7300110000000000590318',\n",
       "       '7300110000000000590401', '7300110000000000590402',\n",
       "       '7300110000000000590403', '7300110000000000590404',\n",
       "       '7300110000000000590405', '7300110000000000590406',\n",
       "       '7300110000000000590407', '7300110000000000590409',\n",
       "       '7300110000000000590410', '7300110000000000590411',\n",
       "       '7300110000000000590412', '7300110000000000590413',\n",
       "       '7300110000000000590414', '7300110000000000590415',\n",
       "       '7300110000000000590505', '7300110000000000590506',\n",
       "       '7300110000000000590522', '7300110000000000590523',\n",
       "       '7300110000000000590524', '7300110000000000590601',\n",
       "       '7300110000000000590602', '7300110000000000590603',\n",
       "       '7300110000000000590604', '7300110000000000590605',\n",
       "       '7300110000000000590606', '7300110000000000590607',\n",
       "       '7300110000000000590609', '7300110000000000590610',\n",
       "       '7300110000000000590611', '7300110000000000590612',\n",
       "       '7300110000000000590613', '7300110000000000590614',\n",
       "       '7300110000000000590615', '7300110000000000590616',\n",
       "       '7300110000000000590617', '7300110000000000590618',\n",
       "       '7300110000000000590619', '7300110000000000590620',\n",
       "       '7300110000000000590701', '7300110000000000590702',\n",
       "       '7300110000000000590703', '7300110000000000590704',\n",
       "       '7300110000000000590705', '7300110000000000590706',\n",
       "       '7300110000000000590707', '7300110000000000590708',\n",
       "       '7300110000000000590709', '7300110000000000590711',\n",
       "       '7300110000000000590712', '7300110000000000590713',\n",
       "       '7300110000000000590714', '7300110000000000590715',\n",
       "       '7300110000000000590716', '7300110000000000590717',\n",
       "       '7300110000000000590718', '7300110000000000590719',\n",
       "       '7300110000000000590720', '7300110000000000590721',\n",
       "       '7300110000000000590722', '7300110000000000590723',\n",
       "       '7300110000000000590724', '7300110000000000590725',\n",
       "       '7300110000000000590726', '7300110000000000590727',\n",
       "       '7300110000000000590728', '7300110000000000730101',\n",
       "       '7300110000000000730102', '7300110000000000730103',\n",
       "       '7300110000000000730104', '7300110000000000730107',\n",
       "       '7300110000000000730108', '7300110000000000730113',\n",
       "       '7300110000000000730118', '7300110000000000730119',\n",
       "       '7300110000000000730123', '7300110000000000730125',\n",
       "       '7300110000000000730126', '7300110000000000730127',\n",
       "       '7300110000000000730212', '7300110000000000730229',\n",
       "       '7300110000000000730233', '7300110000000000730234',\n",
       "       '7300110000000000730239', '7300110000000000730240'], dtype=object)"
      ]
     },
     "execution_count": 125,
     "metadata": {},
     "output_type": "execute_result"
    }
   ],
   "source": [
    "X_train"
   ]
  },
  {
   "cell_type": "code",
   "execution_count": 96,
   "metadata": {},
   "outputs": [],
   "source": [
    "import plotly.graph_objects as go"
   ]
  },
  {
   "cell_type": "code",
   "execution_count": 103,
   "metadata": {},
   "outputs": [
    {
     "data": {
      "application/vnd.plotly.v1+json": {
       "config": {
        "plotlyServerURL": "https://plot.ly"
       },
       "data": [
        {
         "marker": {
          "size": 5
         },
         "mode": "markers",
         "type": "scatter",
         "x": [
          "7300110000000000130204",
          "7300110000000000130206",
          "7300110000000000130207",
          "7300110000000000130208",
          "7300110000000000130215",
          "7300110000000000130219",
          "7300110000000000130221",
          "7300110000000000130222",
          "7300110000000000130223",
          "7300110000000000130224",
          "7300110000000000130225",
          "7300110000000000130226",
          "7300110000000000130227",
          "7300110000000000130302",
          "7300110000000000130303",
          "7300110000000000130307",
          "7300110000000000130308",
          "7300110000000000130309",
          "7300110000000000130310",
          "7300110000000000130311",
          "7300110000000000130312",
          "7300110000000000130313",
          "7300110000000000130329",
          "7300110000000000140101",
          "7300110000000000140105",
          "7300110000000000140106",
          "7300110000000000140110",
          "7300110000000000140111",
          "7300110000000000140113",
          "7300110000000000140114",
          "7300110000000000140118",
          "7300110000000000140119",
          "7300110000000000140301",
          "7300110000000000140302",
          "7300110000000000140303",
          "7300110000000000140304",
          "7300110000000000140306",
          "7300110000000000140307",
          "7300110000000000140308",
          "7300110000000000140309",
          "7300110000000000140319",
          "7300110000000000140320",
          "7300110000000000140409",
          "7300110000000000140410",
          "7300110000000000140411",
          "7300110000000000140412",
          "7300110000000000140414",
          "7300110000000000140424",
          "7300110000000000140428",
          "7300110000000000140429",
          "7300110000000000140916",
          "7300110000000000320503",
          "7300110000000000320504",
          "7300110000000000320505",
          "7300110000000000320506",
          "7300110000000000320507",
          "7300110000000000320508",
          "7300110000000000320513",
          "7300110000000000320514",
          "7300110000000000320610",
          "7300110000000000320611",
          "7300110000000000320612",
          "7300110000000000320614",
          "7300110000000000320701",
          "7300110000000000320702",
          "7300110000000000320703",
          "7300110000000000320704",
          "7300110000000000320705",
          "7300110000000000320707",
          "7300110000000000320708",
          "7300110000000000320709",
          "7300110000000000320710",
          "7300110000000000320711",
          "7300110000000000320712",
          "7300110000000000320714",
          "7300110000000000320715",
          "7300110000000000330101",
          "7300110000000000330102",
          "7300110000000000330103",
          "7300110000000000330104",
          "7300110000000000330105",
          "7300110000000000330106",
          "7300110000000000330107",
          "7300110000000000330109",
          "7300110000000000330111",
          "7300110000000000330114",
          "7300110000000000330115",
          "7300110000000000330116",
          "7300110000000000330117",
          "7300110000000000330118",
          "7300110000000000330119",
          "7300110000000000330120",
          "7300110000000000330121",
          "7300110000000000330122",
          "7300110000000000330123",
          "7300110000000000330124",
          "7300110000000000330205",
          "7300110000000000330209",
          "7300110000000000330210",
          "7300110000000000330212",
          "7300110000000000330217",
          "7300110000000000330218",
          "7300110000000000330219",
          "7300110000000000330220",
          "7300110000000000330221",
          "7300110000000000330222",
          "7300110000000000330228",
          "7300110000000000330229",
          "7300110000000000330241",
          "7300110000000000330242",
          "7300110000000000330243",
          "7300110000000000330244",
          "7300110000000000330245",
          "7300110000000000330246",
          "7300110000000000330247",
          "7300110000000000330248",
          "7300110000000000330249",
          "7300110000000000330250",
          "7300110000000000330251",
          "7300110000000000330301",
          "7300110000000000330302",
          "7300110000000000330305",
          "7300110000000000330307",
          "7300110000000000330308",
          "7300110000000000330312",
          "7300110000000000330314",
          "7300110000000000330315",
          "7300110000000000330317",
          "7300110000000000330318",
          "7300110000000000330326",
          "7300110000000000330327",
          "7300110000000000330328",
          "7300110000000000330329",
          "7300110000000000330330",
          "7300110000000000330331",
          "7300110000000000330332",
          "7300110000000000330333",
          "7300110000000000330334",
          "7300110000000000330335",
          "7300110000000000330339",
          "7300110000000000330340",
          "7300110000000000330341",
          "7300110000000000330401",
          "7300110000000000330402",
          "7300110000000000330405",
          "7300110000000000330406",
          "7300110000000000330407",
          "7300110000000000330408",
          "7300110000000000330409",
          "7300110000000000330410",
          "7300110000000000330411",
          "7300110000000000330414",
          "7300110000000000330415",
          "7300110000000000330423",
          "7300110000000000330424",
          "7300110000000000330425",
          "7300110000000000330426",
          "7300110000000000330501",
          "7300110000000000330507",
          "7300110000000000330508",
          "7300110000000000330509",
          "7300110000000000330510",
          "7300110000000000330511",
          "7300110000000000330512",
          "7300110000000000330513",
          "7300110000000000330514",
          "7300110000000000330515",
          "7300110000000000330516",
          "7300110000000000330517",
          "7300110000000000330528",
          "7300110000000000330802",
          "7300110000000000330803",
          "7300110000000000330804",
          "7300110000000000330805",
          "7300110000000000330806",
          "7300110000000000330807",
          "7300110000000000330808",
          "7300110000000000330809",
          "7300110000000000330813",
          "7300110000000000330814",
          "7300110000000000330815",
          "7300110000000000330816",
          "7300110000000000330817",
          "7300110000000000330818",
          "7300110000000000330819",
          "7300110000000000330820",
          "7300110000000000330821",
          "7300110000000000330822",
          "7300110000000000330823",
          "7300110000000000330910",
          "7300110000000000330911",
          "7300110000000000330913",
          "7300110000000000330914",
          "7300110000000000330915",
          "7300110000000000330916",
          "7300110000000000330918",
          "7300110000000000330922",
          "7300110000000000330923",
          "7300110000000000330924",
          "7300110000000000330925",
          "7300110000000000330926",
          "7300110000000000330935",
          "7300110000000000330936",
          "7300110000000000330937",
          "7300110000000000330939",
          "7300110000000000331101",
          "7300110000000000331102",
          "7300110000000000331103",
          "7300110000000000331104",
          "7300110000000000331105",
          "7300110000000000331106",
          "7300110000000000331107",
          "7300110000000000331108",
          "7300110000000000331109",
          "7300110000000000331110",
          "7300110000000000331111",
          "7300110000000000331112",
          "7300110000000000331113",
          "7300110000000000331114",
          "7300110000000000331115",
          "7300110000000000331120",
          "7300110000000000331121",
          "7300110000000000331122",
          "7300110000000000331124",
          "7300110000000000331125",
          "7300110000000000331126",
          "7300110000000000331129",
          "7300110000000000331132",
          "7300110000000000340207",
          "7300110000000000530419",
          "7300110000000000530430",
          "7300110000000000560103",
          "7300110000000000560104",
          "7300110000000000560105",
          "7300110000000000560106",
          "7300110000000000560107",
          "7300110000000000560109",
          "7300110000000000560110",
          "7300110000000000560112",
          "7300110000000000560117",
          "7300110000000000560122",
          "7300110000000000560128",
          "7300110000000000560129",
          "7300110000000000560130",
          "7300110000000000560131",
          "7300110000000000560134",
          "7300110000000000560135",
          "7300110000000000560136",
          "7300110000000000560137",
          "7300110000000000560138",
          "7300110000000000560139",
          "7300110000000000560701",
          "7300110000000000560703",
          "7300110000000000560704",
          "7300110000000000560705",
          "7300110000000000560706",
          "7300110000000000560709",
          "7300110000000000560710",
          "7300110000000000560711",
          "7300110000000000560712",
          "7300110000000000560713",
          "7300110000000000560714",
          "7300110000000000560717",
          "7300110000000000560718",
          "7300110000000000560719",
          "7300110000000000560802",
          "7300110000000000560803",
          "7300110000000000560805",
          "7300110000000000560807",
          "7300110000000000560808",
          "7300110000000000560809",
          "7300110000000000560811",
          "7300110000000000560812",
          "7300110000000000560813",
          "7300110000000000560814",
          "7300110000000000560816",
          "7300110000000000560817",
          "7300110000000000560819",
          "7300110000000000560820",
          "7300110000000000560821",
          "7300110000000000560822",
          "7300110000000000560823",
          "7300110000000000560824",
          "7300110000000000560825",
          "7300110000000000580102",
          "7300110000000000580103",
          "7300110000000000580104",
          "7300110000000000580105",
          "7300110000000000580106",
          "7300110000000000580107",
          "7300110000000000580108",
          "7300110000000000580109",
          "7300110000000000580110",
          "7300110000000000580111",
          "7300110000000000580112",
          "7300110000000000580113",
          "7300110000000000580130",
          "7300110000000000580219",
          "7300110000000000580301",
          "7300110000000000580302",
          "7300110000000000580303",
          "7300110000000000580304",
          "7300110000000000580305",
          "7300110000000000580306",
          "7300110000000000580307",
          "7300110000000000580308",
          "7300110000000000580309",
          "7300110000000000580310",
          "7300110000000000580311",
          "7300110000000000580312",
          "7300110000000000580313",
          "7300110000000000580314",
          "7300110000000000580315",
          "7300110000000000580325",
          "7300110000000000580329",
          "7300110000000000580401",
          "7300110000000000580402",
          "7300110000000000580403",
          "7300110000000000580404",
          "7300110000000000580405",
          "7300110000000000580406",
          "7300110000000000580407",
          "7300110000000000580408",
          "7300110000000000580409",
          "7300110000000000580410",
          "7300110000000000580411",
          "7300110000000000580412",
          "7300110000000000580501",
          "7300110000000000580502",
          "7300110000000000580503",
          "7300110000000000580504",
          "7300110000000000580505",
          "7300110000000000580506",
          "7300110000000000580507",
          "7300110000000000580523",
          "7300110000000000590101",
          "7300110000000000590102",
          "7300110000000000590103",
          "7300110000000000590104",
          "7300110000000000590105",
          "7300110000000000590106",
          "7300110000000000590107",
          "7300110000000000590110",
          "7300110000000000590111",
          "7300110000000000590112",
          "7300110000000000590114",
          "7300110000000000590117",
          "7300110000000000590118",
          "7300110000000000590119",
          "7300110000000000590120",
          "7300110000000000590121",
          "7300110000000000590122",
          "7300110000000000590123",
          "7300110000000000590124",
          "7300110000000000590125",
          "7300110000000000590126",
          "7300110000000000590128",
          "7300110000000000590201",
          "7300110000000000590202",
          "7300110000000000590203",
          "7300110000000000590204",
          "7300110000000000590205",
          "7300110000000000590206",
          "7300110000000000590207",
          "7300110000000000590208",
          "7300110000000000590209",
          "7300110000000000590210",
          "7300110000000000590211",
          "7300110000000000590212",
          "7300110000000000590213",
          "7300110000000000590214",
          "7300110000000000590215",
          "7300110000000000590216",
          "7300110000000000590217",
          "7300110000000000590218",
          "7300110000000000590219",
          "7300110000000000590220",
          "7300110000000000590221",
          "7300110000000000590222",
          "7300110000000000590223",
          "7300110000000000590224",
          "7300110000000000590301",
          "7300110000000000590302",
          "7300110000000000590303",
          "7300110000000000590304",
          "7300110000000000590305",
          "7300110000000000590306",
          "7300110000000000590307",
          "7300110000000000590308",
          "7300110000000000590310",
          "7300110000000000590311",
          "7300110000000000590312",
          "7300110000000000590313",
          "7300110000000000590314",
          "7300110000000000590315",
          "7300110000000000590318",
          "7300110000000000590401",
          "7300110000000000590402",
          "7300110000000000590403",
          "7300110000000000590404",
          "7300110000000000590405",
          "7300110000000000590406",
          "7300110000000000590407",
          "7300110000000000590409",
          "7300110000000000590410",
          "7300110000000000590411",
          "7300110000000000590412",
          "7300110000000000590413",
          "7300110000000000590414",
          "7300110000000000590415",
          "7300110000000000590505",
          "7300110000000000590506",
          "7300110000000000590522",
          "7300110000000000590523",
          "7300110000000000590524",
          "7300110000000000590601",
          "7300110000000000590602",
          "7300110000000000590603",
          "7300110000000000590604",
          "7300110000000000590605",
          "7300110000000000590606",
          "7300110000000000590607",
          "7300110000000000590609",
          "7300110000000000590610",
          "7300110000000000590611",
          "7300110000000000590612",
          "7300110000000000590613",
          "7300110000000000590614",
          "7300110000000000590615",
          "7300110000000000590616",
          "7300110000000000590617",
          "7300110000000000590618",
          "7300110000000000590619",
          "7300110000000000590620",
          "7300110000000000590701",
          "7300110000000000590702",
          "7300110000000000590703",
          "7300110000000000590704",
          "7300110000000000590705",
          "7300110000000000590706",
          "7300110000000000590707",
          "7300110000000000590708",
          "7300110000000000590709",
          "7300110000000000590711",
          "7300110000000000590712",
          "7300110000000000590713",
          "7300110000000000590714",
          "7300110000000000590715",
          "7300110000000000590716",
          "7300110000000000590717",
          "7300110000000000590718",
          "7300110000000000590719",
          "7300110000000000590720",
          "7300110000000000590721",
          "7300110000000000590722",
          "7300110000000000590723",
          "7300110000000000590724",
          "7300110000000000590725",
          "7300110000000000590726",
          "7300110000000000590727",
          "7300110000000000590728",
          "7300110000000000730101",
          "7300110000000000730102",
          "7300110000000000730103",
          "7300110000000000730104",
          "7300110000000000730107",
          "7300110000000000730108",
          "7300110000000000730113",
          "7300110000000000730118",
          "7300110000000000730119",
          "7300110000000000730123",
          "7300110000000000730125",
          "7300110000000000730126",
          "7300110000000000730127",
          "7300110000000000730212",
          "7300110000000000730229",
          "7300110000000000730233",
          "7300110000000000730234",
          "7300110000000000730239",
          "7300110000000000730240"
         ],
         "y": [
          109,
          72,
          220,
          198,
          54,
          0,
          352,
          0,
          10,
          191,
          0,
          78,
          68,
          70,
          97,
          126,
          105,
          31,
          84,
          80,
          33,
          0,
          1367,
          116,
          109,
          118,
          233,
          143,
          132,
          116,
          154,
          0,
          84,
          71,
          24,
          72,
          86,
          0,
          58,
          133,
          0,
          0,
          48,
          60,
          57,
          49,
          43,
          60,
          23,
          56,
          0,
          148,
          146,
          131,
          198,
          0,
          0,
          137,
          127,
          152,
          161,
          159,
          131,
          209,
          118,
          129,
          140,
          0,
          159,
          214,
          0,
          114,
          119,
          176,
          11,
          0,
          261,
          190,
          115,
          130,
          182,
          134,
          208,
          199,
          147,
          329,
          156,
          70,
          0,
          102,
          215,
          96,
          90,
          146,
          157,
          129,
          10,
          98,
          166,
          85,
          49,
          62,
          54,
          115,
          48,
          62,
          69,
          60,
          62,
          73,
          106,
          69,
          70,
          31,
          0,
          57,
          81,
          326,
          62,
          115,
          46,
          116,
          195,
          315,
          151,
          20,
          118,
          163,
          16,
          316,
          83,
          119,
          105,
          111,
          102,
          73,
          143,
          147,
          65,
          0,
          55,
          61,
          138,
          182,
          232,
          239,
          152,
          165,
          158,
          226,
          396,
          228,
          16,
          1850,
          141,
          129,
          218,
          165,
          106,
          160,
          192,
          118,
          133,
          95,
          87,
          183,
          143,
          137,
          0,
          166,
          53,
          37,
          49,
          188,
          119,
          128,
          97,
          97,
          384,
          133,
          142,
          149,
          156,
          117,
          146,
          295,
          165,
          326,
          25,
          281,
          751,
          92,
          86,
          35,
          75,
          91,
          301,
          102,
          126,
          0,
          0,
          511,
          167,
          18,
          262,
          127,
          134,
          94,
          104,
          72,
          136,
          92,
          63,
          67,
          118,
          119,
          68,
          118,
          118,
          126,
          276,
          127,
          120,
          95,
          201,
          97,
          245,
          12,
          260,
          82,
          6,
          90,
          52,
          93,
          22,
          31,
          0,
          81,
          95,
          375,
          260,
          463,
          118,
          93,
          94,
          26,
          294,
          66,
          38,
          59,
          0,
          115,
          42,
          87,
          19,
          86,
          131,
          56,
          147,
          298,
          135,
          0,
          214,
          16,
          260,
          113,
          133,
          351,
          106,
          201,
          360,
          146,
          131,
          98,
          111,
          60,
          50,
          132,
          134,
          143,
          26,
          134,
          0,
          0,
          139,
          156,
          137,
          135,
          112,
          100,
          90,
          78,
          76,
          56,
          53,
          53,
          91,
          225,
          273,
          71,
          54,
          118,
          32,
          71,
          51,
          49,
          54,
          54,
          50,
          67,
          167,
          58,
          8,
          0,
          280,
          60,
          77,
          70,
          79,
          80,
          70,
          87,
          95,
          79,
          87,
          66,
          76,
          92,
          76,
          103,
          66,
          81,
          116,
          121,
          31,
          146,
          134,
          158,
          193,
          250,
          190,
          241,
          122,
          142,
          118,
          190,
          184,
          149,
          152,
          135,
          118,
          112,
          73,
          12,
          58,
          75,
          0,
          102,
          154,
          110,
          120,
          0,
          160,
          124,
          197,
          133,
          119,
          185,
          213,
          0,
          57,
          321,
          232,
          153,
          130,
          105,
          0,
          164,
          133,
          164,
          128,
          101,
          94,
          108,
          80,
          147,
          134,
          92,
          210,
          128,
          75,
          81,
          90,
          105,
          439,
          146,
          73,
          181,
          0,
          114,
          82,
          173,
          142,
          150,
          164,
          128,
          116,
          223,
          100,
          105,
          73,
          77,
          98,
          268,
          322,
          0,
          0,
          121,
          0,
          44,
          84,
          85,
          128,
          89,
          114,
          96,
          89,
          104,
          105,
          95,
          93,
          66,
          132,
          152,
          261,
          248,
          95,
          189,
          161,
          111,
          88,
          112,
          141,
          104,
          0,
          182,
          45,
          16,
          433,
          116,
          9,
          135,
          63,
          101,
          111,
          89,
          113,
          74,
          95,
          96,
          0,
          288,
          188,
          106,
          25,
          0,
          27,
          45,
          16,
          29,
          253,
          581,
          327,
          18,
          0,
          229,
          176,
          78,
          158,
          77
         ]
        }
       ],
       "layout": {
        "template": {
         "data": {
          "bar": [
           {
            "error_x": {
             "color": "#2a3f5f"
            },
            "error_y": {
             "color": "#2a3f5f"
            },
            "marker": {
             "line": {
              "color": "#E5ECF6",
              "width": 0.5
             },
             "pattern": {
              "fillmode": "overlay",
              "size": 10,
              "solidity": 0.2
             }
            },
            "type": "bar"
           }
          ],
          "barpolar": [
           {
            "marker": {
             "line": {
              "color": "#E5ECF6",
              "width": 0.5
             },
             "pattern": {
              "fillmode": "overlay",
              "size": 10,
              "solidity": 0.2
             }
            },
            "type": "barpolar"
           }
          ],
          "carpet": [
           {
            "aaxis": {
             "endlinecolor": "#2a3f5f",
             "gridcolor": "white",
             "linecolor": "white",
             "minorgridcolor": "white",
             "startlinecolor": "#2a3f5f"
            },
            "baxis": {
             "endlinecolor": "#2a3f5f",
             "gridcolor": "white",
             "linecolor": "white",
             "minorgridcolor": "white",
             "startlinecolor": "#2a3f5f"
            },
            "type": "carpet"
           }
          ],
          "choropleth": [
           {
            "colorbar": {
             "outlinewidth": 0,
             "ticks": ""
            },
            "type": "choropleth"
           }
          ],
          "contour": [
           {
            "colorbar": {
             "outlinewidth": 0,
             "ticks": ""
            },
            "colorscale": [
             [
              0,
              "#0d0887"
             ],
             [
              0.1111111111111111,
              "#46039f"
             ],
             [
              0.2222222222222222,
              "#7201a8"
             ],
             [
              0.3333333333333333,
              "#9c179e"
             ],
             [
              0.4444444444444444,
              "#bd3786"
             ],
             [
              0.5555555555555556,
              "#d8576b"
             ],
             [
              0.6666666666666666,
              "#ed7953"
             ],
             [
              0.7777777777777778,
              "#fb9f3a"
             ],
             [
              0.8888888888888888,
              "#fdca26"
             ],
             [
              1,
              "#f0f921"
             ]
            ],
            "type": "contour"
           }
          ],
          "contourcarpet": [
           {
            "colorbar": {
             "outlinewidth": 0,
             "ticks": ""
            },
            "type": "contourcarpet"
           }
          ],
          "heatmap": [
           {
            "colorbar": {
             "outlinewidth": 0,
             "ticks": ""
            },
            "colorscale": [
             [
              0,
              "#0d0887"
             ],
             [
              0.1111111111111111,
              "#46039f"
             ],
             [
              0.2222222222222222,
              "#7201a8"
             ],
             [
              0.3333333333333333,
              "#9c179e"
             ],
             [
              0.4444444444444444,
              "#bd3786"
             ],
             [
              0.5555555555555556,
              "#d8576b"
             ],
             [
              0.6666666666666666,
              "#ed7953"
             ],
             [
              0.7777777777777778,
              "#fb9f3a"
             ],
             [
              0.8888888888888888,
              "#fdca26"
             ],
             [
              1,
              "#f0f921"
             ]
            ],
            "type": "heatmap"
           }
          ],
          "heatmapgl": [
           {
            "colorbar": {
             "outlinewidth": 0,
             "ticks": ""
            },
            "colorscale": [
             [
              0,
              "#0d0887"
             ],
             [
              0.1111111111111111,
              "#46039f"
             ],
             [
              0.2222222222222222,
              "#7201a8"
             ],
             [
              0.3333333333333333,
              "#9c179e"
             ],
             [
              0.4444444444444444,
              "#bd3786"
             ],
             [
              0.5555555555555556,
              "#d8576b"
             ],
             [
              0.6666666666666666,
              "#ed7953"
             ],
             [
              0.7777777777777778,
              "#fb9f3a"
             ],
             [
              0.8888888888888888,
              "#fdca26"
             ],
             [
              1,
              "#f0f921"
             ]
            ],
            "type": "heatmapgl"
           }
          ],
          "histogram": [
           {
            "marker": {
             "pattern": {
              "fillmode": "overlay",
              "size": 10,
              "solidity": 0.2
             }
            },
            "type": "histogram"
           }
          ],
          "histogram2d": [
           {
            "colorbar": {
             "outlinewidth": 0,
             "ticks": ""
            },
            "colorscale": [
             [
              0,
              "#0d0887"
             ],
             [
              0.1111111111111111,
              "#46039f"
             ],
             [
              0.2222222222222222,
              "#7201a8"
             ],
             [
              0.3333333333333333,
              "#9c179e"
             ],
             [
              0.4444444444444444,
              "#bd3786"
             ],
             [
              0.5555555555555556,
              "#d8576b"
             ],
             [
              0.6666666666666666,
              "#ed7953"
             ],
             [
              0.7777777777777778,
              "#fb9f3a"
             ],
             [
              0.8888888888888888,
              "#fdca26"
             ],
             [
              1,
              "#f0f921"
             ]
            ],
            "type": "histogram2d"
           }
          ],
          "histogram2dcontour": [
           {
            "colorbar": {
             "outlinewidth": 0,
             "ticks": ""
            },
            "colorscale": [
             [
              0,
              "#0d0887"
             ],
             [
              0.1111111111111111,
              "#46039f"
             ],
             [
              0.2222222222222222,
              "#7201a8"
             ],
             [
              0.3333333333333333,
              "#9c179e"
             ],
             [
              0.4444444444444444,
              "#bd3786"
             ],
             [
              0.5555555555555556,
              "#d8576b"
             ],
             [
              0.6666666666666666,
              "#ed7953"
             ],
             [
              0.7777777777777778,
              "#fb9f3a"
             ],
             [
              0.8888888888888888,
              "#fdca26"
             ],
             [
              1,
              "#f0f921"
             ]
            ],
            "type": "histogram2dcontour"
           }
          ],
          "mesh3d": [
           {
            "colorbar": {
             "outlinewidth": 0,
             "ticks": ""
            },
            "type": "mesh3d"
           }
          ],
          "parcoords": [
           {
            "line": {
             "colorbar": {
              "outlinewidth": 0,
              "ticks": ""
             }
            },
            "type": "parcoords"
           }
          ],
          "pie": [
           {
            "automargin": true,
            "type": "pie"
           }
          ],
          "scatter": [
           {
            "marker": {
             "colorbar": {
              "outlinewidth": 0,
              "ticks": ""
             }
            },
            "type": "scatter"
           }
          ],
          "scatter3d": [
           {
            "line": {
             "colorbar": {
              "outlinewidth": 0,
              "ticks": ""
             }
            },
            "marker": {
             "colorbar": {
              "outlinewidth": 0,
              "ticks": ""
             }
            },
            "type": "scatter3d"
           }
          ],
          "scattercarpet": [
           {
            "marker": {
             "colorbar": {
              "outlinewidth": 0,
              "ticks": ""
             }
            },
            "type": "scattercarpet"
           }
          ],
          "scattergeo": [
           {
            "marker": {
             "colorbar": {
              "outlinewidth": 0,
              "ticks": ""
             }
            },
            "type": "scattergeo"
           }
          ],
          "scattergl": [
           {
            "marker": {
             "colorbar": {
              "outlinewidth": 0,
              "ticks": ""
             }
            },
            "type": "scattergl"
           }
          ],
          "scattermapbox": [
           {
            "marker": {
             "colorbar": {
              "outlinewidth": 0,
              "ticks": ""
             }
            },
            "type": "scattermapbox"
           }
          ],
          "scatterpolar": [
           {
            "marker": {
             "colorbar": {
              "outlinewidth": 0,
              "ticks": ""
             }
            },
            "type": "scatterpolar"
           }
          ],
          "scatterpolargl": [
           {
            "marker": {
             "colorbar": {
              "outlinewidth": 0,
              "ticks": ""
             }
            },
            "type": "scatterpolargl"
           }
          ],
          "scatterternary": [
           {
            "marker": {
             "colorbar": {
              "outlinewidth": 0,
              "ticks": ""
             }
            },
            "type": "scatterternary"
           }
          ],
          "surface": [
           {
            "colorbar": {
             "outlinewidth": 0,
             "ticks": ""
            },
            "colorscale": [
             [
              0,
              "#0d0887"
             ],
             [
              0.1111111111111111,
              "#46039f"
             ],
             [
              0.2222222222222222,
              "#7201a8"
             ],
             [
              0.3333333333333333,
              "#9c179e"
             ],
             [
              0.4444444444444444,
              "#bd3786"
             ],
             [
              0.5555555555555556,
              "#d8576b"
             ],
             [
              0.6666666666666666,
              "#ed7953"
             ],
             [
              0.7777777777777778,
              "#fb9f3a"
             ],
             [
              0.8888888888888888,
              "#fdca26"
             ],
             [
              1,
              "#f0f921"
             ]
            ],
            "type": "surface"
           }
          ],
          "table": [
           {
            "cells": {
             "fill": {
              "color": "#EBF0F8"
             },
             "line": {
              "color": "white"
             }
            },
            "header": {
             "fill": {
              "color": "#C8D4E3"
             },
             "line": {
              "color": "white"
             }
            },
            "type": "table"
           }
          ]
         },
         "layout": {
          "annotationdefaults": {
           "arrowcolor": "#2a3f5f",
           "arrowhead": 0,
           "arrowwidth": 1
          },
          "autotypenumbers": "strict",
          "coloraxis": {
           "colorbar": {
            "outlinewidth": 0,
            "ticks": ""
           }
          },
          "colorscale": {
           "diverging": [
            [
             0,
             "#8e0152"
            ],
            [
             0.1,
             "#c51b7d"
            ],
            [
             0.2,
             "#de77ae"
            ],
            [
             0.3,
             "#f1b6da"
            ],
            [
             0.4,
             "#fde0ef"
            ],
            [
             0.5,
             "#f7f7f7"
            ],
            [
             0.6,
             "#e6f5d0"
            ],
            [
             0.7,
             "#b8e186"
            ],
            [
             0.8,
             "#7fbc41"
            ],
            [
             0.9,
             "#4d9221"
            ],
            [
             1,
             "#276419"
            ]
           ],
           "sequential": [
            [
             0,
             "#0d0887"
            ],
            [
             0.1111111111111111,
             "#46039f"
            ],
            [
             0.2222222222222222,
             "#7201a8"
            ],
            [
             0.3333333333333333,
             "#9c179e"
            ],
            [
             0.4444444444444444,
             "#bd3786"
            ],
            [
             0.5555555555555556,
             "#d8576b"
            ],
            [
             0.6666666666666666,
             "#ed7953"
            ],
            [
             0.7777777777777778,
             "#fb9f3a"
            ],
            [
             0.8888888888888888,
             "#fdca26"
            ],
            [
             1,
             "#f0f921"
            ]
           ],
           "sequentialminus": [
            [
             0,
             "#0d0887"
            ],
            [
             0.1111111111111111,
             "#46039f"
            ],
            [
             0.2222222222222222,
             "#7201a8"
            ],
            [
             0.3333333333333333,
             "#9c179e"
            ],
            [
             0.4444444444444444,
             "#bd3786"
            ],
            [
             0.5555555555555556,
             "#d8576b"
            ],
            [
             0.6666666666666666,
             "#ed7953"
            ],
            [
             0.7777777777777778,
             "#fb9f3a"
            ],
            [
             0.8888888888888888,
             "#fdca26"
            ],
            [
             1,
             "#f0f921"
            ]
           ]
          },
          "colorway": [
           "#636efa",
           "#EF553B",
           "#00cc96",
           "#ab63fa",
           "#FFA15A",
           "#19d3f3",
           "#FF6692",
           "#B6E880",
           "#FF97FF",
           "#FECB52"
          ],
          "font": {
           "color": "#2a3f5f"
          },
          "geo": {
           "bgcolor": "white",
           "lakecolor": "white",
           "landcolor": "#E5ECF6",
           "showlakes": true,
           "showland": true,
           "subunitcolor": "white"
          },
          "hoverlabel": {
           "align": "left"
          },
          "hovermode": "closest",
          "mapbox": {
           "style": "light"
          },
          "paper_bgcolor": "white",
          "plot_bgcolor": "#E5ECF6",
          "polar": {
           "angularaxis": {
            "gridcolor": "white",
            "linecolor": "white",
            "ticks": ""
           },
           "bgcolor": "#E5ECF6",
           "radialaxis": {
            "gridcolor": "white",
            "linecolor": "white",
            "ticks": ""
           }
          },
          "scene": {
           "xaxis": {
            "backgroundcolor": "#E5ECF6",
            "gridcolor": "white",
            "gridwidth": 2,
            "linecolor": "white",
            "showbackground": true,
            "ticks": "",
            "zerolinecolor": "white"
           },
           "yaxis": {
            "backgroundcolor": "#E5ECF6",
            "gridcolor": "white",
            "gridwidth": 2,
            "linecolor": "white",
            "showbackground": true,
            "ticks": "",
            "zerolinecolor": "white"
           },
           "zaxis": {
            "backgroundcolor": "#E5ECF6",
            "gridcolor": "white",
            "gridwidth": 2,
            "linecolor": "white",
            "showbackground": true,
            "ticks": "",
            "zerolinecolor": "white"
           }
          },
          "shapedefaults": {
           "line": {
            "color": "#2a3f5f"
           }
          },
          "ternary": {
           "aaxis": {
            "gridcolor": "white",
            "linecolor": "white",
            "ticks": ""
           },
           "baxis": {
            "gridcolor": "white",
            "linecolor": "white",
            "ticks": ""
           },
           "bgcolor": "#E5ECF6",
           "caxis": {
            "gridcolor": "white",
            "linecolor": "white",
            "ticks": ""
           }
          },
          "title": {
           "x": 0.05
          },
          "xaxis": {
           "automargin": true,
           "gridcolor": "white",
           "linecolor": "white",
           "ticks": "",
           "title": {
            "standoff": 15
           },
           "zerolinecolor": "white",
           "zerolinewidth": 2
          },
          "yaxis": {
           "automargin": true,
           "gridcolor": "white",
           "linecolor": "white",
           "ticks": "",
           "title": {
            "standoff": 15
           },
           "zerolinecolor": "white",
           "zerolinewidth": 2
          }
         }
        },
        "xaxis": {
         "title": {
          "text": "COD DANE"
         }
        },
        "yaxis": {
         "title": {
          "text": "Total Personas"
         }
        }
       }
      }
     },
     "metadata": {},
     "output_type": "display_data"
    }
   ],
   "source": [
    "fig = go.Figure(data=go.Scatter(x=data_2002_clean['COD_DANE'], y=data_2002_clean['Total_Personas']))\n",
    "fig.update_traces( mode='markers')\n",
    "fig.update_traces(marker=dict(size=5))\n",
    "fig.update_xaxes(title='COD DANE')\n",
    "fig.update_yaxes(title='Total Personas')\n",
    "fig.show()"
   ]
  },
  {
   "cell_type": "code",
   "execution_count": 166,
   "metadata": {},
   "outputs": [],
   "source": [
    "from sklearn.model_selection import train_test_split\n",
    "from sklearn.ensemble import RandomForestRegressor\n",
    "from sklearn.metrics import r2_score\n",
    "import matplotlib.pyplot as plt"
   ]
  },
  {
   "cell_type": "code",
   "execution_count": 164,
   "metadata": {},
   "outputs": [],
   "source": [
    "score = []\n",
    "n_estimators = []\n",
    "for i in range(1,1000,20):\n",
    "    regressor = RandomForestRegressor(criterion=\"squared_error\", n_estimators = i, random_state = 0)\n",
    "    regressor.fit(X_train, y_train)\n",
    "    y_pred = regressor.predict(X_test)\n",
    "    score.append(r2_score(y_test, y_pred))\n",
    "    n_estimators.append(i)"
   ]
  },
  {
   "cell_type": "code",
   "execution_count": 165,
   "metadata": {},
   "outputs": [
    {
     "data": {
      "image/png": "[encoded data removed]",
      "text/plain": [
       "<Figure size 432x288 with 1 Axes>"
      ]
     },
     "metadata": {
      "needs_background": "light"
     },
     "output_type": "display_data"
    }
   ],
   "source": [
    "plt.plot(n_estimators, score)\n",
    "plt.xlabel('Number of estimators')\n",
    "plt.ylabel('Score')\n",
    "plt.show()"
   ]
  },
  {
   "cell_type": "markdown",
   "metadata": {},
   "source": [
    "Se puede ver que este modelo no mejorará a partir de los 20 estimadores."
   ]
  },
  {
   "cell_type": "code",
   "execution_count": 162,
   "metadata": {},
   "outputs": [
    {
     "data": {
      "text/plain": [
       "RandomForestRegressor(n_estimators=20, random_state=0)"
      ]
     },
     "execution_count": 162,
     "metadata": {},
     "output_type": "execute_result"
    }
   ],
   "source": [
    "regressor = RandomForestRegressor(n_estimators = 20, random_state = 0)\n",
    "regressor.fit(X_train, y_train)"
   ]
  },
  {
   "cell_type": "code",
   "execution_count": 163,
   "metadata": {},
   "outputs": [
    {
     "name": "stdout",
     "output_type": "stream",
     "text": [
      "[123.165]\n",
      "44\n"
     ]
    }
   ],
   "source": [
    "y_pred = regressor.predict([['7300110000000000140409']])\n",
    "print(y_pred)\n",
    "print(data_2018_clean.loc[data_2018_clean.COD_DANE == '7300110000000000140409', 'Total_Personas'].iloc[0])"
   ]
  },
  {
   "cell_type": "code",
   "execution_count": null,
   "metadata": {},
   "outputs": [],
   "source": []
  }
 ],
 "metadata": {
  "interpreter": {
   "hash": "47313e47aa50dc1a5e9bb301f441c0ed5c4b195dabd19f8b959e32ca934ce058"
  },
  "kernelspec": {
   "display_name": "Python 3.9.1 ('venv': venv)",
   "language": "python",
   "name": "python3"
  },
  "language_info": {
   "codemirror_mode": {
    "name": "ipython",
    "version": 3
   },
   "file_extension": ".py",
   "mimetype": "text/x-python",
   "name": "python",
   "nbconvert_exporter": "python",
   "pygments_lexer": "ipython3",
   "version": "3.9.1"
  },
  "orig_nbformat": 4
 },
 "nbformat": 4,
 "nbformat_minor": 2
}
